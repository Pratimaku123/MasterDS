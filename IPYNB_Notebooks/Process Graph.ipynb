{
 "cells": [
  {
   "cell_type": "code",
   "execution_count": 1,
   "metadata": {},
   "outputs": [],
   "source": [
    "import pandas as pd\n",
    "import numpy as np\n",
    "import matplotlib.pyplot as plt"
   ]
  },
  {
   "cell_type": "code",
   "execution_count": 2,
   "metadata": {},
   "outputs": [],
   "source": [
    "data=pd.read_csv('process.csv',header=None,sep='\\t')"
   ]
  },
  {
   "cell_type": "code",
   "execution_count": 3,
   "metadata": {},
   "outputs": [],
   "source": [
    "data_1=data[0].to_list()"
   ]
  },
  {
   "cell_type": "code",
   "execution_count": 4,
   "metadata": {},
   "outputs": [
    {
     "data": {
      "text/plain": [
       "['OK:',\n",
       " 'rms_server',\n",
       " 'rms_server.cfg',\n",
       " 'running',\n",
       " 'as',\n",
       " 'tradesrv1',\n",
       " '(expected:1',\n",
       " 'running:1)']"
      ]
     },
     "execution_count": 4,
     "metadata": {},
     "output_type": "execute_result"
    }
   ],
   "source": [
    "data_1[4].split(' ')"
   ]
  },
  {
   "cell_type": "code",
   "execution_count": 5,
   "metadata": {},
   "outputs": [
    {
     "name": "stdout",
     "output_type": "stream",
     "text": [
      "OK:\n",
      "rms_server\n",
      "rms_server.cfg\n",
      "running\n",
      "as\n",
      "tradesrv1\n",
      "(expected:1\n",
      "running:1)\n"
     ]
    }
   ],
   "source": [
    "for i in data_1[4].split(' '):\n",
    "    print(i)"
   ]
  },
  {
   "cell_type": "code",
   "execution_count": 6,
   "metadata": {},
   "outputs": [
    {
     "data": {
      "text/plain": [
       "['OK:', 'nse_native_trade_server']"
      ]
     },
     "execution_count": 6,
     "metadata": {},
     "output_type": "execute_result"
    }
   ],
   "source": [
    "data_1[0].split(' ')[0:2]"
   ]
  },
  {
   "cell_type": "code",
   "execution_count": 7,
   "metadata": {},
   "outputs": [
    {
     "data": {
      "text/plain": [
       "12"
      ]
     },
     "execution_count": 7,
     "metadata": {},
     "output_type": "execute_result"
    }
   ],
   "source": [
    "len(data_1)"
   ]
  },
  {
   "cell_type": "code",
   "execution_count": 8,
   "metadata": {},
   "outputs": [],
   "source": [
    "d={}\n",
    "d['Status']=[]\n",
    "d['Process']=[]\n",
    "d['TS_ID_User']=[]\n",
    "d['Expected']=[]\n",
    "d['Actual']=[]\n",
    "for i in range(len(data_1)):\n",
    "    for j in range(len(data_1[i].split(' '))):\n",
    "        if j==0:\n",
    "            d['Status'].append(data_1[i].split(' ')[j])\n",
    "        elif j==1:\n",
    "            d['Process'].append(data_1[i].split(' ')[j])\n",
    "        elif j==5:\n",
    "            d['TS_ID_User'].append(data_1[i].split(' ')[j])\n",
    "        elif j==6:\n",
    "            d['Expected'].append(data_1[i].split(' ')[j])\n",
    "        elif j==7:\n",
    "            d['Actual'].append(data_1[i].split(' ')[j])\n"
   ]
  },
  {
   "cell_type": "code",
   "execution_count": 9,
   "metadata": {},
   "outputs": [],
   "source": [
    "df=pd.DataFrame(d)"
   ]
  },
  {
   "cell_type": "code",
   "execution_count": 10,
   "metadata": {},
   "outputs": [
    {
     "data": {
      "text/html": [
       "<div>\n",
       "<style scoped>\n",
       "    .dataframe tbody tr th:only-of-type {\n",
       "        vertical-align: middle;\n",
       "    }\n",
       "\n",
       "    .dataframe tbody tr th {\n",
       "        vertical-align: top;\n",
       "    }\n",
       "\n",
       "    .dataframe thead th {\n",
       "        text-align: right;\n",
       "    }\n",
       "</style>\n",
       "<table border=\"1\" class=\"dataframe\">\n",
       "  <thead>\n",
       "    <tr style=\"text-align: right;\">\n",
       "      <th></th>\n",
       "      <th>Status</th>\n",
       "      <th>Process</th>\n",
       "      <th>TS_ID_User</th>\n",
       "      <th>Expected</th>\n",
       "      <th>Actual</th>\n",
       "    </tr>\n",
       "  </thead>\n",
       "  <tbody>\n",
       "    <tr>\n",
       "      <th>0</th>\n",
       "      <td>OK:</td>\n",
       "      <td>nse_native_trade_server</td>\n",
       "      <td>tradesrv1</td>\n",
       "      <td>(expected:1</td>\n",
       "      <td>running:1)</td>\n",
       "    </tr>\n",
       "    <tr>\n",
       "      <th>1</th>\n",
       "      <td>OK:</td>\n",
       "      <td>nse_native_trade_server</td>\n",
       "      <td>tradesrv2</td>\n",
       "      <td>(expected:1</td>\n",
       "      <td>running:1)</td>\n",
       "    </tr>\n",
       "    <tr>\n",
       "      <th>2</th>\n",
       "      <td>OK:</td>\n",
       "      <td>nse_native_trade_server</td>\n",
       "      <td>tradesrv3</td>\n",
       "      <td>(expected:1</td>\n",
       "      <td>running:1)</td>\n",
       "    </tr>\n",
       "    <tr>\n",
       "      <th>3</th>\n",
       "      <td>OK:</td>\n",
       "      <td>nse_native_trade_server</td>\n",
       "      <td>tradesrv4</td>\n",
       "      <td>(expected:1</td>\n",
       "      <td>running:1)</td>\n",
       "    </tr>\n",
       "    <tr>\n",
       "      <th>4</th>\n",
       "      <td>OK:</td>\n",
       "      <td>rms_server</td>\n",
       "      <td>tradesrv1</td>\n",
       "      <td>(expected:1</td>\n",
       "      <td>running:1)</td>\n",
       "    </tr>\n",
       "    <tr>\n",
       "      <th>5</th>\n",
       "      <td>OK:</td>\n",
       "      <td>rms_server</td>\n",
       "      <td>tradesrv2</td>\n",
       "      <td>(expected:1</td>\n",
       "      <td>running:1)</td>\n",
       "    </tr>\n",
       "    <tr>\n",
       "      <th>6</th>\n",
       "      <td>OK:</td>\n",
       "      <td>rms_server</td>\n",
       "      <td>tradesrv3</td>\n",
       "      <td>(expected:1</td>\n",
       "      <td>running:1)</td>\n",
       "    </tr>\n",
       "    <tr>\n",
       "      <th>7</th>\n",
       "      <td>OK:</td>\n",
       "      <td>rms_server</td>\n",
       "      <td>tradesrv4</td>\n",
       "      <td>(expected:1</td>\n",
       "      <td>running:1)</td>\n",
       "    </tr>\n",
       "    <tr>\n",
       "      <th>8</th>\n",
       "      <td>OK:</td>\n",
       "      <td>new_options_trader</td>\n",
       "      <td>running</td>\n",
       "      <td>as</td>\n",
       "      <td>opt_trader</td>\n",
       "    </tr>\n",
       "    <tr>\n",
       "      <th>9</th>\n",
       "      <td>OK:</td>\n",
       "      <td>new_options_trader</td>\n",
       "      <td>running</td>\n",
       "      <td>as</td>\n",
       "      <td>opt_trader</td>\n",
       "    </tr>\n",
       "    <tr>\n",
       "      <th>10</th>\n",
       "      <td>OK:</td>\n",
       "      <td>new_options_trader</td>\n",
       "      <td>running</td>\n",
       "      <td>as</td>\n",
       "      <td>opt_trader</td>\n",
       "    </tr>\n",
       "    <tr>\n",
       "      <th>11</th>\n",
       "      <td>OK:</td>\n",
       "      <td>nse_tbt</td>\n",
       "      <td>opt_trader</td>\n",
       "      <td>(expected:1</td>\n",
       "      <td>running:1)</td>\n",
       "    </tr>\n",
       "  </tbody>\n",
       "</table>\n",
       "</div>"
      ],
      "text/plain": [
       "   Status                  Process  TS_ID_User     Expected      Actual\n",
       "0     OK:  nse_native_trade_server   tradesrv1  (expected:1  running:1)\n",
       "1     OK:  nse_native_trade_server   tradesrv2  (expected:1  running:1)\n",
       "2     OK:  nse_native_trade_server   tradesrv3  (expected:1  running:1)\n",
       "3     OK:  nse_native_trade_server   tradesrv4  (expected:1  running:1)\n",
       "4     OK:               rms_server   tradesrv1  (expected:1  running:1)\n",
       "5     OK:               rms_server   tradesrv2  (expected:1  running:1)\n",
       "6     OK:               rms_server   tradesrv3  (expected:1  running:1)\n",
       "7     OK:               rms_server   tradesrv4  (expected:1  running:1)\n",
       "8     OK:       new_options_trader     running           as  opt_trader\n",
       "9     OK:       new_options_trader     running           as  opt_trader\n",
       "10    OK:       new_options_trader     running           as  opt_trader\n",
       "11    OK:                  nse_tbt  opt_trader  (expected:1  running:1)"
      ]
     },
     "execution_count": 10,
     "metadata": {},
     "output_type": "execute_result"
    }
   ],
   "source": [
    "df"
   ]
  },
  {
   "cell_type": "code",
   "execution_count": 11,
   "metadata": {},
   "outputs": [],
   "source": [
    "df['Status']=df['Status'].apply(lambda x:x[:-1])"
   ]
  },
  {
   "cell_type": "code",
   "execution_count": 12,
   "metadata": {},
   "outputs": [],
   "source": [
    "df['Expected']=df['Expected'].apply(lambda x:x[-1])"
   ]
  },
  {
   "cell_type": "code",
   "execution_count": 13,
   "metadata": {},
   "outputs": [],
   "source": [
    "df['Actual']=df['Actual'].apply(lambda x:x[-2])"
   ]
  },
  {
   "cell_type": "code",
   "execution_count": 14,
   "metadata": {},
   "outputs": [
    {
     "data": {
      "text/html": [
       "<div>\n",
       "<style scoped>\n",
       "    .dataframe tbody tr th:only-of-type {\n",
       "        vertical-align: middle;\n",
       "    }\n",
       "\n",
       "    .dataframe tbody tr th {\n",
       "        vertical-align: top;\n",
       "    }\n",
       "\n",
       "    .dataframe thead th {\n",
       "        text-align: right;\n",
       "    }\n",
       "</style>\n",
       "<table border=\"1\" class=\"dataframe\">\n",
       "  <thead>\n",
       "    <tr style=\"text-align: right;\">\n",
       "      <th></th>\n",
       "      <th>Status</th>\n",
       "      <th>Process</th>\n",
       "      <th>TS_ID_User</th>\n",
       "      <th>Expected</th>\n",
       "      <th>Actual</th>\n",
       "    </tr>\n",
       "  </thead>\n",
       "  <tbody>\n",
       "    <tr>\n",
       "      <th>0</th>\n",
       "      <td>OK</td>\n",
       "      <td>nse_native_trade_server</td>\n",
       "      <td>tradesrv1</td>\n",
       "      <td>1</td>\n",
       "      <td>1</td>\n",
       "    </tr>\n",
       "    <tr>\n",
       "      <th>1</th>\n",
       "      <td>OK</td>\n",
       "      <td>nse_native_trade_server</td>\n",
       "      <td>tradesrv2</td>\n",
       "      <td>1</td>\n",
       "      <td>1</td>\n",
       "    </tr>\n",
       "    <tr>\n",
       "      <th>2</th>\n",
       "      <td>OK</td>\n",
       "      <td>nse_native_trade_server</td>\n",
       "      <td>tradesrv3</td>\n",
       "      <td>1</td>\n",
       "      <td>1</td>\n",
       "    </tr>\n",
       "    <tr>\n",
       "      <th>3</th>\n",
       "      <td>OK</td>\n",
       "      <td>nse_native_trade_server</td>\n",
       "      <td>tradesrv4</td>\n",
       "      <td>1</td>\n",
       "      <td>1</td>\n",
       "    </tr>\n",
       "    <tr>\n",
       "      <th>4</th>\n",
       "      <td>OK</td>\n",
       "      <td>rms_server</td>\n",
       "      <td>tradesrv1</td>\n",
       "      <td>1</td>\n",
       "      <td>1</td>\n",
       "    </tr>\n",
       "    <tr>\n",
       "      <th>5</th>\n",
       "      <td>OK</td>\n",
       "      <td>rms_server</td>\n",
       "      <td>tradesrv2</td>\n",
       "      <td>1</td>\n",
       "      <td>1</td>\n",
       "    </tr>\n",
       "    <tr>\n",
       "      <th>6</th>\n",
       "      <td>OK</td>\n",
       "      <td>rms_server</td>\n",
       "      <td>tradesrv3</td>\n",
       "      <td>1</td>\n",
       "      <td>1</td>\n",
       "    </tr>\n",
       "    <tr>\n",
       "      <th>7</th>\n",
       "      <td>OK</td>\n",
       "      <td>rms_server</td>\n",
       "      <td>tradesrv4</td>\n",
       "      <td>1</td>\n",
       "      <td>1</td>\n",
       "    </tr>\n",
       "    <tr>\n",
       "      <th>8</th>\n",
       "      <td>OK</td>\n",
       "      <td>new_options_trader</td>\n",
       "      <td>running</td>\n",
       "      <td>s</td>\n",
       "      <td>e</td>\n",
       "    </tr>\n",
       "    <tr>\n",
       "      <th>9</th>\n",
       "      <td>OK</td>\n",
       "      <td>new_options_trader</td>\n",
       "      <td>running</td>\n",
       "      <td>s</td>\n",
       "      <td>e</td>\n",
       "    </tr>\n",
       "    <tr>\n",
       "      <th>10</th>\n",
       "      <td>OK</td>\n",
       "      <td>new_options_trader</td>\n",
       "      <td>running</td>\n",
       "      <td>s</td>\n",
       "      <td>e</td>\n",
       "    </tr>\n",
       "    <tr>\n",
       "      <th>11</th>\n",
       "      <td>OK</td>\n",
       "      <td>nse_tbt</td>\n",
       "      <td>opt_trader</td>\n",
       "      <td>1</td>\n",
       "      <td>1</td>\n",
       "    </tr>\n",
       "  </tbody>\n",
       "</table>\n",
       "</div>"
      ],
      "text/plain": [
       "   Status                  Process  TS_ID_User Expected Actual\n",
       "0      OK  nse_native_trade_server   tradesrv1        1      1\n",
       "1      OK  nse_native_trade_server   tradesrv2        1      1\n",
       "2      OK  nse_native_trade_server   tradesrv3        1      1\n",
       "3      OK  nse_native_trade_server   tradesrv4        1      1\n",
       "4      OK               rms_server   tradesrv1        1      1\n",
       "5      OK               rms_server   tradesrv2        1      1\n",
       "6      OK               rms_server   tradesrv3        1      1\n",
       "7      OK               rms_server   tradesrv4        1      1\n",
       "8      OK       new_options_trader     running        s      e\n",
       "9      OK       new_options_trader     running        s      e\n",
       "10     OK       new_options_trader     running        s      e\n",
       "11     OK                  nse_tbt  opt_trader        1      1"
      ]
     },
     "execution_count": 14,
     "metadata": {},
     "output_type": "execute_result"
    }
   ],
   "source": [
    "df"
   ]
  },
  {
   "cell_type": "code",
   "execution_count": 15,
   "metadata": {},
   "outputs": [],
   "source": [
    "df=df[~(df['Expected']!='1')]"
   ]
  },
  {
   "cell_type": "code",
   "execution_count": 16,
   "metadata": {},
   "outputs": [
    {
     "data": {
      "text/plain": [
       "0     nse_native_trade_server\n",
       "1     nse_native_trade_server\n",
       "2     nse_native_trade_server\n",
       "3     nse_native_trade_server\n",
       "4                  rms_server\n",
       "5                  rms_server\n",
       "6                  rms_server\n",
       "7                  rms_server\n",
       "11                    nse_tbt\n",
       "Name: Process, dtype: object"
      ]
     },
     "execution_count": 16,
     "metadata": {},
     "output_type": "execute_result"
    }
   ],
   "source": [
    "df['Process']"
   ]
  },
  {
   "cell_type": "code",
   "execution_count": 17,
   "metadata": {},
   "outputs": [],
   "source": [
    "TS_list=list(set(df['TS_ID_User'].to_list()))"
   ]
  },
  {
   "cell_type": "code",
   "execution_count": 18,
   "metadata": {},
   "outputs": [
    {
     "data": {
      "text/plain": [
       "['tradesrv2', 'tradesrv1', 'tradesrv3', 'opt_trader', 'tradesrv4']"
      ]
     },
     "execution_count": 18,
     "metadata": {},
     "output_type": "execute_result"
    }
   ],
   "source": [
    "list(TS_list)"
   ]
  },
  {
   "cell_type": "code",
   "execution_count": null,
   "metadata": {},
   "outputs": [],
   "source": [
    "if TS_list[i] not in ['opt_trader','granite_trader','option_trader']:\n",
    "        df['Process']=TS_list[i]\n",
    "\n",
    "    if(df[(df['Process']=='rms_server') & (df['TS_ID_User']==TS_list[i])]):\n",
    "        if TS_list[i] not in ['opt_trader','granite_trader','option_trader']:\n",
    "        df['Process']=TS_list[i]"
   ]
  },
  {
   "cell_type": "code",
   "execution_count": 19,
   "metadata": {},
   "outputs": [
    {
     "name": "stderr",
     "output_type": "stream",
     "text": [
      "<ipython-input-19-13572364664b>:1: SettingWithCopyWarning: \n",
      "A value is trying to be set on a copy of a slice from a DataFrame.\n",
      "Try using .loc[row_indexer,col_indexer] = value instead\n",
      "\n",
      "See the caveats in the documentation: https://pandas.pydata.org/pandas-docs/stable/user_guide/indexing.html#returning-a-view-versus-a-copy\n",
      "  df['Procee']=df[(df['Process']=='nse_native_trade_server') & (df['TS_ID_User']==TS_list[1])]['Process'].replace('nse_native_trade_server',TS_list[1])\n"
     ]
    }
   ],
   "source": [
    "df['Procee']=df[(df['Process']=='nse_native_trade_server') & (df['TS_ID_User']==TS_list[1])]['Process'].replace('nse_native_trade_server',TS_list[1])"
   ]
  },
  {
   "cell_type": "code",
   "execution_count": 25,
   "metadata": {},
   "outputs": [],
   "source": [
    "df=df.drop('Procee',axis=1)"
   ]
  },
  {
   "cell_type": "code",
   "execution_count": 26,
   "metadata": {},
   "outputs": [
    {
     "data": {
      "text/plain": [
       "0    tradesrv3\n",
       "Name: Process, dtype: object"
      ]
     },
     "execution_count": 26,
     "metadata": {},
     "output_type": "execute_result"
    }
   ],
   "source": [
    "df[(df['Process']=='nse_native_trade_server') & (df['TS_ID_User']==TS_list[1])]['Process'].replace('nse_native_trade_server',TS_list[2])"
   ]
  },
  {
   "cell_type": "code",
   "execution_count": 22,
   "metadata": {},
   "outputs": [
    {
     "data": {
      "text/html": [
       "<div>\n",
       "<style scoped>\n",
       "    .dataframe tbody tr th:only-of-type {\n",
       "        vertical-align: middle;\n",
       "    }\n",
       "\n",
       "    .dataframe tbody tr th {\n",
       "        vertical-align: top;\n",
       "    }\n",
       "\n",
       "    .dataframe thead th {\n",
       "        text-align: right;\n",
       "    }\n",
       "</style>\n",
       "<table border=\"1\" class=\"dataframe\">\n",
       "  <thead>\n",
       "    <tr style=\"text-align: right;\">\n",
       "      <th></th>\n",
       "      <th>Status</th>\n",
       "      <th>Process</th>\n",
       "      <th>TS_ID_User</th>\n",
       "      <th>Expected</th>\n",
       "      <th>Actual</th>\n",
       "      <th>Procee</th>\n",
       "    </tr>\n",
       "  </thead>\n",
       "  <tbody>\n",
       "    <tr>\n",
       "      <th>0</th>\n",
       "      <td>OK</td>\n",
       "      <td>nse_native_trade_server</td>\n",
       "      <td>tradesrv1</td>\n",
       "      <td>1</td>\n",
       "      <td>1</td>\n",
       "      <td>tradesrv3</td>\n",
       "    </tr>\n",
       "    <tr>\n",
       "      <th>1</th>\n",
       "      <td>OK</td>\n",
       "      <td>nse_native_trade_server</td>\n",
       "      <td>tradesrv2</td>\n",
       "      <td>1</td>\n",
       "      <td>1</td>\n",
       "      <td>NaN</td>\n",
       "    </tr>\n",
       "    <tr>\n",
       "      <th>2</th>\n",
       "      <td>OK</td>\n",
       "      <td>nse_native_trade_server</td>\n",
       "      <td>tradesrv3</td>\n",
       "      <td>1</td>\n",
       "      <td>1</td>\n",
       "      <td>NaN</td>\n",
       "    </tr>\n",
       "    <tr>\n",
       "      <th>3</th>\n",
       "      <td>OK</td>\n",
       "      <td>nse_native_trade_server</td>\n",
       "      <td>tradesrv4</td>\n",
       "      <td>1</td>\n",
       "      <td>1</td>\n",
       "      <td>NaN</td>\n",
       "    </tr>\n",
       "    <tr>\n",
       "      <th>4</th>\n",
       "      <td>OK</td>\n",
       "      <td>rms_server</td>\n",
       "      <td>tradesrv1</td>\n",
       "      <td>1</td>\n",
       "      <td>1</td>\n",
       "      <td>NaN</td>\n",
       "    </tr>\n",
       "    <tr>\n",
       "      <th>5</th>\n",
       "      <td>OK</td>\n",
       "      <td>rms_server</td>\n",
       "      <td>tradesrv2</td>\n",
       "      <td>1</td>\n",
       "      <td>1</td>\n",
       "      <td>NaN</td>\n",
       "    </tr>\n",
       "    <tr>\n",
       "      <th>6</th>\n",
       "      <td>OK</td>\n",
       "      <td>rms_server</td>\n",
       "      <td>tradesrv3</td>\n",
       "      <td>1</td>\n",
       "      <td>1</td>\n",
       "      <td>NaN</td>\n",
       "    </tr>\n",
       "    <tr>\n",
       "      <th>7</th>\n",
       "      <td>OK</td>\n",
       "      <td>rms_server</td>\n",
       "      <td>tradesrv4</td>\n",
       "      <td>1</td>\n",
       "      <td>1</td>\n",
       "      <td>NaN</td>\n",
       "    </tr>\n",
       "    <tr>\n",
       "      <th>11</th>\n",
       "      <td>OK</td>\n",
       "      <td>nse_tbt</td>\n",
       "      <td>opt_trader</td>\n",
       "      <td>1</td>\n",
       "      <td>1</td>\n",
       "      <td>NaN</td>\n",
       "    </tr>\n",
       "  </tbody>\n",
       "</table>\n",
       "</div>"
      ],
      "text/plain": [
       "   Status                  Process  TS_ID_User Expected Actual     Procee\n",
       "0      OK  nse_native_trade_server   tradesrv1        1      1  tradesrv3\n",
       "1      OK  nse_native_trade_server   tradesrv2        1      1        NaN\n",
       "2      OK  nse_native_trade_server   tradesrv3        1      1        NaN\n",
       "3      OK  nse_native_trade_server   tradesrv4        1      1        NaN\n",
       "4      OK               rms_server   tradesrv1        1      1        NaN\n",
       "5      OK               rms_server   tradesrv2        1      1        NaN\n",
       "6      OK               rms_server   tradesrv3        1      1        NaN\n",
       "7      OK               rms_server   tradesrv4        1      1        NaN\n",
       "11     OK                  nse_tbt  opt_trader        1      1        NaN"
      ]
     },
     "execution_count": 22,
     "metadata": {},
     "output_type": "execute_result"
    }
   ],
   "source": [
    "df"
   ]
  },
  {
   "cell_type": "code",
   "execution_count": 89,
   "metadata": {},
   "outputs": [
    {
     "name": "stderr",
     "output_type": "stream",
     "text": [
      "<ipython-input-89-a88e26931e40>:1: SettingWithCopyWarning: \n",
      "A value is trying to be set on a copy of a slice from a DataFrame.\n",
      "Try using .loc[row_indexer,col_indexer] = value instead\n",
      "\n",
      "See the caveats in the documentation: https://pandas.pydata.org/pandas-docs/stable/user_guide/indexing.html#returning-a-view-versus-a-copy\n",
      "  df['Expected']=df['Expected'].astype('int')\n",
      "<ipython-input-89-a88e26931e40>:2: SettingWithCopyWarning: \n",
      "A value is trying to be set on a copy of a slice from a DataFrame.\n",
      "Try using .loc[row_indexer,col_indexer] = value instead\n",
      "\n",
      "See the caveats in the documentation: https://pandas.pydata.org/pandas-docs/stable/user_guide/indexing.html#returning-a-view-versus-a-copy\n",
      "  df['Actual']=df['Actual'].astype('int')\n"
     ]
    }
   ],
   "source": [
    "df['Expected']=df['Expected'].astype('int')\n",
    "df['Actual']=df['Actual'].astype('int')"
   ]
  },
  {
   "cell_type": "code",
   "execution_count": null,
   "metadata": {},
   "outputs": [],
   "source": [
    "df[]"
   ]
  },
  {
   "cell_type": "code",
   "execution_count": 86,
   "metadata": {},
   "outputs": [],
   "source": [
    "import seaborn as sns"
   ]
  },
  {
   "cell_type": "code",
   "execution_count": 91,
   "metadata": {},
   "outputs": [
    {
     "name": "stderr",
     "output_type": "stream",
     "text": [
      "/home/pkumari/anaconda3/lib/python3.8/site-packages/seaborn/_decorators.py:36: FutureWarning: Pass the following variables as keyword args: x, y. From version 0.12, the only valid positional argument will be `data`, and passing other arguments without an explicit keyword will result in an error or misinterpretation.\n",
      "  warnings.warn(\n"
     ]
    },
    {
     "data": {
      "text/plain": [
       "<AxesSubplot:xlabel='Actual', ylabel='TS_ID_User'>"
      ]
     },
     "execution_count": 91,
     "metadata": {},
     "output_type": "execute_result"
    },
    {
     "data": {
      "image/png": "[encoded data removed]",
      "text/plain": [
       "<Figure size 432x288 with 1 Axes>"
      ]
     },
     "metadata": {
      "needs_background": "light"
     },
     "output_type": "display_data"
    }
   ],
   "source": [
    "sns.barplot(df['Actual'],df['TS_ID_User'])"
   ]
  },
  {
   "cell_type": "code",
   "execution_count": 5,
   "metadata": {},
   "outputs": [
    {
     "name": "stdout",
     "output_type": "stream",
     "text": [
      "Yes\n"
     ]
    }
   ],
   "source": [
    "import re\n",
    "a='B'\n",
    "if re.compile(\"[a-z|A-Z]\").fullmatch(a):\n",
    "    print('Yes')"
   ]
  },
  {
   "cell_type": "code",
   "execution_count": 8,
   "metadata": {},
   "outputs": [
    {
     "name": "stdout",
     "output_type": "stream",
     "text": [
      "Input your password12345678\n",
      "Not a Valid Password\n"
     ]
    }
   ],
   "source": [
    "import re\n",
    "p= input(\"Input your password\")\n",
    "x = True\n",
    "while x:  \n",
    "    if (len(p)<6 or len(p)>12):\n",
    "        break\n",
    "    elif not re.search(\"[a-z]\",p):\n",
    "        break\n",
    "    elif not re.search(\"[0-9]\",p):\n",
    "        break\n",
    "    elif not re.search(\"[A-Z]\",p):\n",
    "        break\n",
    "    elif not re.search(\"[$#@]\",p):\n",
    "        break\n",
    "    elif re.search(\"\\s\",p):\n",
    "        break\n",
    "    else:\n",
    "        print(\"Valid Password\")\n",
    "        x=False\n",
    "        break\n",
    "\n",
    "if x:\n",
    "    print(\"Not a Valid Password\")"
   ]
  },
  {
   "cell_type": "code",
   "execution_count": null,
   "metadata": {},
   "outputs": [],
   "source": []
  }
 ],
 "metadata": {
  "kernelspec": {
   "display_name": "Python 3",
   "language": "python",
   "name": "python3"
  },
  "language_info": {
   "codemirror_mode": {
    "name": "ipython",
    "version": 3
   },
   "file_extension": ".py",
   "mimetype": "text/x-python",
   "name": "python",
   "nbconvert_exporter": "python",
   "pygments_lexer": "ipython3",
   "version": "3.8.5"
  },
  "nbTranslate": {
   "displayLangs": [
    "*"
   ],
   "hotkey": "alt-t",
   "langInMainMenu": true,
   "sourceLang": "en",
   "targetLang": "fr",
   "useGoogleTranslate": true
  },
  "toc": {
   "base_numbering": 1,
   "nav_menu": {},
   "number_sections": true,
   "sideBar": true,
   "skip_h1_title": false,
   "title_cell": "Table of Contents",
   "title_sidebar": "Contents",
   "toc_cell": false,
   "toc_position": {},
   "toc_section_display": true,
   "toc_window_display": false
  },
  "varInspector": {
   "cols": {
    "lenName": 16,
    "lenType": 16,
    "lenVar": 40
   },
   "kernels_config": {
    "python": {
     "delete_cmd_postfix": "",
     "delete_cmd_prefix": "del ",
     "library": "var_list.py",
     "varRefreshCmd": "print(var_dic_list())"
    },
    "r": {
     "delete_cmd_postfix": ") ",
     "delete_cmd_prefix": "rm(",
     "library": "var_list.r",
     "varRefreshCmd": "cat(var_dic_list()) "
    }
   },
   "types_to_exclude": [
    "module",
    "function",
    "builtin_function_or_method",
    "instance",
    "_Feature"
   ],
   "window_display": false
  }
 },
 "nbformat": 4,
 "nbformat_minor": 4
}
