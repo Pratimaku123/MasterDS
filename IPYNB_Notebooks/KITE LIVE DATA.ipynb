{
 "cells": [
  {
   "cell_type": "code",
   "execution_count": 1,
   "metadata": {},
   "outputs": [],
   "source": [
    "import logging\n",
    "from kiteconnect import KiteConnect,KiteTicker\n",
    "import pandas as pd , numpy as np\n",
    "from datetime import datetime,timedelta\n",
    "from pprint import pprint\n",
    "import warnings\n",
    "warnings.filterwarnings('ignore')\n",
    "import pdb"
   ]
  },
  {
   "cell_type": "code",
   "execution_count": null,
   "metadata": {},
   "outputs": [],
   "source": [
    "kite=''\n",
    "kws=''\n",
    "\n",
    "api_key=\"jprcwmspw5uxqsyq\"\n",
    "api_secret=\"oqca9m0okrs0bliwlkzalw0d6kukow52\"\n",
    "\n",
    "logging.basicConfig(level=logging.DEBUG)\n",
    "\n",
    "access_token=\"R3S7eVW8nwLJg0gaAhOxEoFty1qa5NPa\"\n",
    "\n",
    "def get_login(api_key,api_secret):\n",
    "    global kite,kws\n",
    "    kite=KiteConnect(api_key=api_key)\n",
    "    print(\"[*] generate Access Token:\", kite.login_url())\n",
    "    request_token=input(\"[*] Enter your Request Token here:\")\n",
    "    data=kite.generate_session(request_token,api_secret)\n",
    "    kite.set_access_token(data[\"access_token\"])\n",
    "    kws=KiteTicker(api_key,data[\"access_token\"])\n",
    "    print(data[\"access_token\"])\n",
    "    \n",
    "#     kite.set_access_token(access_token)\n",
    "#     kws=KiteTicker(api_key,access_token)\n",
    "    \n",
    "get_login(api_key,api_secret)\n",
    "\n",
    "Traing_portfolio={345089:'HEROMOTOCO',2815745:'MARUTI'}\n",
    "\n",
    "\n",
    "def on_ticks(ws,ticks):\n",
    "    for single_company in ticks:\n",
    "        inst_of_single_comapny=single_company['instrument_token']\n",
    "        name=Traing_portfolio[inst_of_single_comapny]\n",
    "        print(single_company,name)\n",
    "\n",
    "    print(\"\\n\")\n",
    "\n",
    "inst_token=[345089,2815745]    \n",
    "def on_connect(ws,response):\n",
    "    ws.subscribe(inst_token)\n",
    "    ws.set_mode(ws.MODE_LTP,inst_token)\n",
    "    \n",
    "    \n",
    "kws.on_ticks=on_ticks\n",
    "kws.on_connect=on_connect\n",
    "\n",
    "kws.connect()"
   ]
  },
  {
   "cell_type": "code",
   "execution_count": null,
   "metadata": {},
   "outputs": [],
   "source": []
  },
  {
   "cell_type": "code",
   "execution_count": null,
   "metadata": {},
   "outputs": [],
   "source": []
  }
 ],
 "metadata": {
  "kernelspec": {
   "display_name": "Python 3",
   "language": "python",
   "name": "python3"
  },
  "language_info": {
   "codemirror_mode": {
    "name": "ipython",
    "version": 3
   },
   "file_extension": ".py",
   "mimetype": "text/x-python",
   "name": "python",
   "nbconvert_exporter": "python",
   "pygments_lexer": "ipython3",
   "version": "3.8.3"
  }
 },
 "nbformat": 4,
 "nbformat_minor": 4
}
