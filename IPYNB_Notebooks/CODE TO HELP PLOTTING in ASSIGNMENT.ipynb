{
 "cells": [
  {
   "cell_type": "code",
   "execution_count": 2,
   "metadata": {},
   "outputs": [
    {
     "name": "stdout",
     "output_type": "stream",
     "text": [
      "server namenemo45.nse\n",
      "list of process\n",
      "{'Strategy', 'TS 2', 'TS 1', 'TFEED', 'OS/Non-Isolated', 'BSE Bookbuilder', 'TS 3', 'CME MBO'}\n",
      "process name: TFEED\n",
      "TFEED  :  1\n",
      "TFEED  :  2\n",
      "Press Ctrl+C to stop WebAgg server\n"
     ]
    },
    {
     "ename": "RuntimeError",
     "evalue": "This event loop is already running",
     "output_type": "error",
     "traceback": [
      "\u001b[0;31m---------------------------------------------------------------------------\u001b[0m",
      "\u001b[0;31mRuntimeError\u001b[0m                              Traceback (most recent call last)",
      "\u001b[0;32m<ipython-input-2-004546da3cf9>\u001b[0m in \u001b[0;36m<module>\u001b[0;34m\u001b[0m\n\u001b[1;32m     27\u001b[0m \u001b[0mplt\u001b[0m\u001b[0;34m.\u001b[0m\u001b[0mtitle\u001b[0m\u001b[0;34m(\u001b[0m\u001b[0;34m'CPU ALLOCATION'\u001b[0m\u001b[0;34m,\u001b[0m\u001b[0mcolor\u001b[0m\u001b[0;34m=\u001b[0m\u001b[0;34m'Blue'\u001b[0m\u001b[0;34m)\u001b[0m\u001b[0;34m\u001b[0m\u001b[0;34m\u001b[0m\u001b[0m\n\u001b[1;32m     28\u001b[0m \u001b[0mplt\u001b[0m\u001b[0;34m.\u001b[0m\u001b[0msavefig\u001b[0m\u001b[0;34m(\u001b[0m\u001b[0;34m'file.png'\u001b[0m\u001b[0;34m)\u001b[0m\u001b[0;34m\u001b[0m\u001b[0;34m\u001b[0m\u001b[0m\n\u001b[0;32m---> 29\u001b[0;31m \u001b[0mplt\u001b[0m\u001b[0;34m.\u001b[0m\u001b[0mshow\u001b[0m\u001b[0;34m(\u001b[0m\u001b[0;34m)\u001b[0m\u001b[0;34m\u001b[0m\u001b[0;34m\u001b[0m\u001b[0m\n\u001b[0m\u001b[1;32m     30\u001b[0m \u001b[0mplt\u001b[0m\u001b[0;34m.\u001b[0m\u001b[0mclose\u001b[0m\u001b[0;34m(\u001b[0m\u001b[0;34m)\u001b[0m\u001b[0;34m\u001b[0m\u001b[0;34m\u001b[0m\u001b[0m\n",
      "\u001b[0;32m~/anaconda3/lib/python3.8/site-packages/matplotlib/pyplot.py\u001b[0m in \u001b[0;36mshow\u001b[0;34m(*args, **kw)\u001b[0m\n\u001b[1;32m    270\u001b[0m     \"\"\"\n\u001b[1;32m    271\u001b[0m     \u001b[0;32mglobal\u001b[0m \u001b[0m_show\u001b[0m\u001b[0;34m\u001b[0m\u001b[0;34m\u001b[0m\u001b[0m\n\u001b[0;32m--> 272\u001b[0;31m     \u001b[0;32mreturn\u001b[0m \u001b[0m_show\u001b[0m\u001b[0;34m(\u001b[0m\u001b[0;34m*\u001b[0m\u001b[0margs\u001b[0m\u001b[0;34m,\u001b[0m \u001b[0;34m**\u001b[0m\u001b[0mkw\u001b[0m\u001b[0;34m)\u001b[0m\u001b[0;34m\u001b[0m\u001b[0;34m\u001b[0m\u001b[0m\n\u001b[0m\u001b[1;32m    273\u001b[0m \u001b[0;34m\u001b[0m\u001b[0m\n\u001b[1;32m    274\u001b[0m \u001b[0;34m\u001b[0m\u001b[0m\n",
      "\u001b[0;32m~/anaconda3/lib/python3.8/site-packages/matplotlib/backends/backend_webagg.py\u001b[0m in \u001b[0;36mshow\u001b[0;34m()\u001b[0m\n\u001b[1;32m    322\u001b[0m             \u001b[0mprint\u001b[0m\u001b[0;34m(\u001b[0m\u001b[0;34m\"To view figure, visit {0}\"\u001b[0m\u001b[0;34m.\u001b[0m\u001b[0mformat\u001b[0m\u001b[0;34m(\u001b[0m\u001b[0murl\u001b[0m\u001b[0;34m)\u001b[0m\u001b[0;34m)\u001b[0m\u001b[0;34m\u001b[0m\u001b[0;34m\u001b[0m\u001b[0m\n\u001b[1;32m    323\u001b[0m \u001b[0;34m\u001b[0m\u001b[0m\n\u001b[0;32m--> 324\u001b[0;31m         \u001b[0mWebAggApplication\u001b[0m\u001b[0;34m.\u001b[0m\u001b[0mstart\u001b[0m\u001b[0;34m(\u001b[0m\u001b[0;34m)\u001b[0m\u001b[0;34m\u001b[0m\u001b[0;34m\u001b[0m\u001b[0m\n\u001b[0m",
      "\u001b[0;32m~/anaconda3/lib/python3.8/site-packages/matplotlib/backends/backend_webagg.py\u001b[0m in \u001b[0;36mstart\u001b[0;34m(cls)\u001b[0m\n\u001b[1;32m    276\u001b[0m         \u001b[0msys\u001b[0m\u001b[0;34m.\u001b[0m\u001b[0mstdout\u001b[0m\u001b[0;34m.\u001b[0m\u001b[0mflush\u001b[0m\u001b[0;34m(\u001b[0m\u001b[0;34m)\u001b[0m\u001b[0;34m\u001b[0m\u001b[0;34m\u001b[0m\u001b[0m\n\u001b[1;32m    277\u001b[0m         \u001b[0;32mwith\u001b[0m \u001b[0mcatch_sigint\u001b[0m\u001b[0;34m(\u001b[0m\u001b[0;34m)\u001b[0m\u001b[0;34m:\u001b[0m\u001b[0;34m\u001b[0m\u001b[0;34m\u001b[0m\u001b[0m\n\u001b[0;32m--> 278\u001b[0;31m             \u001b[0mioloop\u001b[0m\u001b[0;34m.\u001b[0m\u001b[0mstart\u001b[0m\u001b[0;34m(\u001b[0m\u001b[0;34m)\u001b[0m\u001b[0;34m\u001b[0m\u001b[0;34m\u001b[0m\u001b[0m\n\u001b[0m\u001b[1;32m    279\u001b[0m \u001b[0;34m\u001b[0m\u001b[0m\n\u001b[1;32m    280\u001b[0m \u001b[0;34m\u001b[0m\u001b[0m\n",
      "\u001b[0;32m~/anaconda3/lib/python3.8/site-packages/tornado/platform/asyncio.py\u001b[0m in \u001b[0;36mstart\u001b[0;34m(self)\u001b[0m\n\u001b[1;32m    147\u001b[0m             \u001b[0mself\u001b[0m\u001b[0;34m.\u001b[0m\u001b[0m_setup_logging\u001b[0m\u001b[0;34m(\u001b[0m\u001b[0;34m)\u001b[0m\u001b[0;34m\u001b[0m\u001b[0;34m\u001b[0m\u001b[0m\n\u001b[1;32m    148\u001b[0m             \u001b[0masyncio\u001b[0m\u001b[0;34m.\u001b[0m\u001b[0mset_event_loop\u001b[0m\u001b[0;34m(\u001b[0m\u001b[0mself\u001b[0m\u001b[0;34m.\u001b[0m\u001b[0masyncio_loop\u001b[0m\u001b[0;34m)\u001b[0m\u001b[0;34m\u001b[0m\u001b[0;34m\u001b[0m\u001b[0m\n\u001b[0;32m--> 149\u001b[0;31m             \u001b[0mself\u001b[0m\u001b[0;34m.\u001b[0m\u001b[0masyncio_loop\u001b[0m\u001b[0;34m.\u001b[0m\u001b[0mrun_forever\u001b[0m\u001b[0;34m(\u001b[0m\u001b[0;34m)\u001b[0m\u001b[0;34m\u001b[0m\u001b[0;34m\u001b[0m\u001b[0m\n\u001b[0m\u001b[1;32m    150\u001b[0m         \u001b[0;32mfinally\u001b[0m\u001b[0;34m:\u001b[0m\u001b[0;34m\u001b[0m\u001b[0;34m\u001b[0m\u001b[0m\n\u001b[1;32m    151\u001b[0m             \u001b[0masyncio\u001b[0m\u001b[0;34m.\u001b[0m\u001b[0mset_event_loop\u001b[0m\u001b[0;34m(\u001b[0m\u001b[0mold_loop\u001b[0m\u001b[0;34m)\u001b[0m\u001b[0;34m\u001b[0m\u001b[0;34m\u001b[0m\u001b[0m\n",
      "\u001b[0;32m~/anaconda3/lib/python3.8/asyncio/base_events.py\u001b[0m in \u001b[0;36mrun_forever\u001b[0;34m(self)\u001b[0m\n\u001b[1;32m    558\u001b[0m         \u001b[0;34m\"\"\"Run until stop() is called.\"\"\"\u001b[0m\u001b[0;34m\u001b[0m\u001b[0;34m\u001b[0m\u001b[0m\n\u001b[1;32m    559\u001b[0m         \u001b[0mself\u001b[0m\u001b[0;34m.\u001b[0m\u001b[0m_check_closed\u001b[0m\u001b[0;34m(\u001b[0m\u001b[0;34m)\u001b[0m\u001b[0;34m\u001b[0m\u001b[0;34m\u001b[0m\u001b[0m\n\u001b[0;32m--> 560\u001b[0;31m         \u001b[0mself\u001b[0m\u001b[0;34m.\u001b[0m\u001b[0m_check_running\u001b[0m\u001b[0;34m(\u001b[0m\u001b[0;34m)\u001b[0m\u001b[0;34m\u001b[0m\u001b[0;34m\u001b[0m\u001b[0m\n\u001b[0m\u001b[1;32m    561\u001b[0m         \u001b[0mself\u001b[0m\u001b[0;34m.\u001b[0m\u001b[0m_set_coroutine_origin_tracking\u001b[0m\u001b[0;34m(\u001b[0m\u001b[0mself\u001b[0m\u001b[0;34m.\u001b[0m\u001b[0m_debug\u001b[0m\u001b[0;34m)\u001b[0m\u001b[0;34m\u001b[0m\u001b[0;34m\u001b[0m\u001b[0m\n\u001b[1;32m    562\u001b[0m         \u001b[0mself\u001b[0m\u001b[0;34m.\u001b[0m\u001b[0m_thread_id\u001b[0m \u001b[0;34m=\u001b[0m \u001b[0mthreading\u001b[0m\u001b[0;34m.\u001b[0m\u001b[0mget_ident\u001b[0m\u001b[0;34m(\u001b[0m\u001b[0;34m)\u001b[0m\u001b[0;34m\u001b[0m\u001b[0;34m\u001b[0m\u001b[0m\n",
      "\u001b[0;32m~/anaconda3/lib/python3.8/asyncio/base_events.py\u001b[0m in \u001b[0;36m_check_running\u001b[0;34m(self)\u001b[0m\n\u001b[1;32m    550\u001b[0m     \u001b[0;32mdef\u001b[0m \u001b[0m_check_running\u001b[0m\u001b[0;34m(\u001b[0m\u001b[0mself\u001b[0m\u001b[0;34m)\u001b[0m\u001b[0;34m:\u001b[0m\u001b[0;34m\u001b[0m\u001b[0;34m\u001b[0m\u001b[0m\n\u001b[1;32m    551\u001b[0m         \u001b[0;32mif\u001b[0m \u001b[0mself\u001b[0m\u001b[0;34m.\u001b[0m\u001b[0mis_running\u001b[0m\u001b[0;34m(\u001b[0m\u001b[0;34m)\u001b[0m\u001b[0;34m:\u001b[0m\u001b[0;34m\u001b[0m\u001b[0;34m\u001b[0m\u001b[0m\n\u001b[0;32m--> 552\u001b[0;31m             \u001b[0;32mraise\u001b[0m \u001b[0mRuntimeError\u001b[0m\u001b[0;34m(\u001b[0m\u001b[0;34m'This event loop is already running'\u001b[0m\u001b[0;34m)\u001b[0m\u001b[0;34m\u001b[0m\u001b[0;34m\u001b[0m\u001b[0m\n\u001b[0m\u001b[1;32m    553\u001b[0m         \u001b[0;32mif\u001b[0m \u001b[0mevents\u001b[0m\u001b[0;34m.\u001b[0m\u001b[0m_get_running_loop\u001b[0m\u001b[0;34m(\u001b[0m\u001b[0;34m)\u001b[0m \u001b[0;32mis\u001b[0m \u001b[0;32mnot\u001b[0m \u001b[0;32mNone\u001b[0m\u001b[0;34m:\u001b[0m\u001b[0;34m\u001b[0m\u001b[0;34m\u001b[0m\u001b[0m\n\u001b[1;32m    554\u001b[0m             raise RuntimeError(\n",
      "\u001b[0;31mRuntimeError\u001b[0m: This event loop is already running"
     ]
    }
   ],
   "source": [
    "import pandas as pd\n",
    "import matplotlib\n",
    "matplotlib.use('WebAgg')\n",
    "from mpl_toolkits.mplot3d import Axes3D\n",
    "import matplotlib.pyplot as plt\n",
    "from mpl_toolkits.mplot3d import Axes3D\n",
    "plt.ioff()\n",
    "import seaborn as sns\n",
    "import numpy as np\n",
    "#import Tkinter as tk\n",
    "#import mpld3\n",
    "cpu = pd.read_excel('CPU.xlsx')\n",
    "server=input(\"server name\")\n",
    "print(\"list of process\")\n",
    "print(set(list(cpu[~cpu[server].isnull()][server])))\n",
    "X=input(\"process name: \")\n",
    "for i in range(len(cpu)):\n",
    "    if cpu[server][i]==X:\n",
    "        print(X,' : ',cpu['CPU/HOST'][i])\n",
    "plt.style.use('ggplot')\n",
    "fig=plt.figure()\n",
    "plt.figure(figsize=[12,8])\n",
    "sns.color_palette(\"husl\",8)\n",
    "ax=sns.scatterplot(data=cpu,x='CPU/HOST',y=server,hue=server,color='g',s=300)\n",
    "plt.legend(bbox_to_anchor=(1.01, 1),borderaxespad=0)\n",
    "ax.xaxis.set_ticks(np.arange(0,len(cpu),1.0))\n",
    "plt.title('CPU ALLOCATION',color='Blue')\n",
    "plt.savefig('file.png')\n",
    "plt.show()\n",
    "plt.close()\n"
   ]
  },
  {
   "cell_type": "code",
   "execution_count": 3,
   "metadata": {},
   "outputs": [
    {
     "data": {
      "text/html": [
       "<div>\n",
       "<style scoped>\n",
       "    .dataframe tbody tr th:only-of-type {\n",
       "        vertical-align: middle;\n",
       "    }\n",
       "\n",
       "    .dataframe tbody tr th {\n",
       "        vertical-align: top;\n",
       "    }\n",
       "\n",
       "    .dataframe thead th {\n",
       "        text-align: right;\n",
       "    }\n",
       "</style>\n",
       "<table border=\"1\" class=\"dataframe\">\n",
       "  <thead>\n",
       "    <tr style=\"text-align: right;\">\n",
       "      <th></th>\n",
       "      <th>CPU/HOST</th>\n",
       "      <th>nemo45.nse</th>\n",
       "      <th>nemo82.nse</th>\n",
       "      <th>nemo25.nse</th>\n",
       "      <th>nemo5.nse</th>\n",
       "      <th>nemo8.nse</th>\n",
       "      <th>nemo11.nse</th>\n",
       "      <th>nemo13.nse</th>\n",
       "      <th>nemo30.nse</th>\n",
       "      <th>nemo43.nse</th>\n",
       "      <th>nemo44.nse</th>\n",
       "      <th>nemo49.nse</th>\n",
       "      <th>nemo51.nse</th>\n",
       "      <th>nemo81.nse</th>\n",
       "      <th>nemo27.nse</th>\n",
       "      <th>nemo53.nse</th>\n",
       "    </tr>\n",
       "  </thead>\n",
       "  <tbody>\n",
       "    <tr>\n",
       "      <th>0</th>\n",
       "      <td>0</td>\n",
       "      <td>OS/Non-Isolated</td>\n",
       "      <td>OS/Non-Isolated</td>\n",
       "      <td>OS/Non-Isolated</td>\n",
       "      <td>OS/Non-Isolated</td>\n",
       "      <td>OS/Non-Isolated</td>\n",
       "      <td>OS/Non-Isolated</td>\n",
       "      <td>OS/Non-Isolated</td>\n",
       "      <td>OS/Non-Isolated</td>\n",
       "      <td>OS/Non-Isolated</td>\n",
       "      <td>NaN</td>\n",
       "      <td>OS/Non-Isolated</td>\n",
       "      <td>OS/Non-Isolated</td>\n",
       "      <td>TFEED</td>\n",
       "      <td>OS/Non-Isolated</td>\n",
       "      <td>OS/Non-Isolated</td>\n",
       "    </tr>\n",
       "    <tr>\n",
       "      <th>1</th>\n",
       "      <td>1</td>\n",
       "      <td>TFEED</td>\n",
       "      <td>TFEED</td>\n",
       "      <td>TFEED</td>\n",
       "      <td>NaN</td>\n",
       "      <td>TS 4</td>\n",
       "      <td>NaN</td>\n",
       "      <td>TFEED</td>\n",
       "      <td>TFEED</td>\n",
       "      <td>Logger Core</td>\n",
       "      <td>NaN</td>\n",
       "      <td>TFEED</td>\n",
       "      <td>TFEED</td>\n",
       "      <td>NaN</td>\n",
       "      <td>TFEED</td>\n",
       "      <td>TFEED</td>\n",
       "    </tr>\n",
       "    <tr>\n",
       "      <th>2</th>\n",
       "      <td>2</td>\n",
       "      <td>TFEED</td>\n",
       "      <td>TFEED</td>\n",
       "      <td>TFEED</td>\n",
       "      <td>TFEED</td>\n",
       "      <td>BN Controller</td>\n",
       "      <td>USDINR Expiry Controller</td>\n",
       "      <td>TFEED</td>\n",
       "      <td>TS 1</td>\n",
       "      <td>TFEED</td>\n",
       "      <td>NaN</td>\n",
       "      <td>TFEED</td>\n",
       "      <td>TFEED</td>\n",
       "      <td>NaN</td>\n",
       "      <td>TFEED</td>\n",
       "      <td>TFEED</td>\n",
       "    </tr>\n",
       "    <tr>\n",
       "      <th>3</th>\n",
       "      <td>3</td>\n",
       "      <td>TS 1</td>\n",
       "      <td>TFEED</td>\n",
       "      <td>NaN</td>\n",
       "      <td>SBIN AT</td>\n",
       "      <td>TS 1</td>\n",
       "      <td>NaN</td>\n",
       "      <td>TFEED</td>\n",
       "      <td>TS 2</td>\n",
       "      <td>NIFTY Controller</td>\n",
       "      <td>TS 1</td>\n",
       "      <td>TFEED</td>\n",
       "      <td>TFEED</td>\n",
       "      <td>MARUTI AT</td>\n",
       "      <td>TFEED</td>\n",
       "      <td>TFEED</td>\n",
       "    </tr>\n",
       "    <tr>\n",
       "      <th>4</th>\n",
       "      <td>4</td>\n",
       "      <td>TS 2</td>\n",
       "      <td>TFEED</td>\n",
       "      <td>NaN</td>\n",
       "      <td>SBIN AQ</td>\n",
       "      <td>TS 2</td>\n",
       "      <td>USDINR Controller</td>\n",
       "      <td>AXISBANK AT</td>\n",
       "      <td>TS 3</td>\n",
       "      <td>NIFTY AT</td>\n",
       "      <td>HDFCBANK Controller</td>\n",
       "      <td>TFEED</td>\n",
       "      <td>TFEED</td>\n",
       "      <td>MARUTI AQ</td>\n",
       "      <td>TFEED</td>\n",
       "      <td>TFEED</td>\n",
       "    </tr>\n",
       "  </tbody>\n",
       "</table>\n",
       "</div>"
      ],
      "text/plain": [
       "   CPU/HOST       nemo45.nse       nemo82.nse       nemo25.nse  \\\n",
       "0         0  OS/Non-Isolated  OS/Non-Isolated  OS/Non-Isolated   \n",
       "1         1            TFEED            TFEED            TFEED   \n",
       "2         2            TFEED            TFEED            TFEED   \n",
       "3         3             TS 1            TFEED              NaN   \n",
       "4         4             TS 2            TFEED              NaN   \n",
       "\n",
       "         nemo5.nse        nemo8.nse                nemo11.nse  \\\n",
       "0  OS/Non-Isolated  OS/Non-Isolated           OS/Non-Isolated   \n",
       "1              NaN             TS 4                       NaN   \n",
       "2            TFEED    BN Controller  USDINR Expiry Controller   \n",
       "3          SBIN AT             TS 1                       NaN   \n",
       "4          SBIN AQ             TS 2         USDINR Controller   \n",
       "\n",
       "        nemo13.nse       nemo30.nse        nemo43.nse           nemo44.nse  \\\n",
       "0  OS/Non-Isolated  OS/Non-Isolated   OS/Non-Isolated                  NaN   \n",
       "1            TFEED            TFEED       Logger Core                  NaN   \n",
       "2            TFEED             TS 1             TFEED                  NaN   \n",
       "3            TFEED             TS 2  NIFTY Controller                 TS 1   \n",
       "4      AXISBANK AT             TS 3          NIFTY AT  HDFCBANK Controller   \n",
       "\n",
       "        nemo49.nse       nemo51.nse nemo81.nse       nemo27.nse  \\\n",
       "0  OS/Non-Isolated  OS/Non-Isolated      TFEED  OS/Non-Isolated   \n",
       "1            TFEED            TFEED        NaN            TFEED   \n",
       "2            TFEED            TFEED        NaN            TFEED   \n",
       "3            TFEED            TFEED  MARUTI AT            TFEED   \n",
       "4            TFEED            TFEED  MARUTI AQ            TFEED   \n",
       "\n",
       "        nemo53.nse  \n",
       "0  OS/Non-Isolated  \n",
       "1            TFEED  \n",
       "2            TFEED  \n",
       "3            TFEED  \n",
       "4            TFEED  "
      ]
     },
     "execution_count": 3,
     "metadata": {},
     "output_type": "execute_result"
    }
   ],
   "source": [
    "cpu.head()"
   ]
  },
  {
   "cell_type": "code",
   "execution_count": 4,
   "metadata": {},
   "outputs": [
    {
     "name": "stdout",
     "output_type": "stream",
     "text": [
      "my name is reetu\n"
     ]
    }
   ],
   "source": [
    "print(\"my name is reetu\")"
   ]
  },
  {
   "cell_type": "code",
   "execution_count": 11,
   "metadata": {},
   "outputs": [
    {
     "name": "stdout",
     "output_type": "stream",
     "text": [
      "please enter: bye\n",
      "wrong number\n"
     ]
    }
   ],
   "source": [
    "a=input(\"please enter: \")\n",
    "if a=='hi':\n",
    "    print('my name is reetu')\n",
    "else:\n",
    "    print(\"wrong number\")"
   ]
  },
  {
   "cell_type": "markdown",
   "metadata": {},
   "source": [
    "### PLOTITNG HEAT MAP WITH MANY VARIBALES"
   ]
  },
  {
   "cell_type": "code",
   "execution_count": null,
   "metadata": {},
   "outputs": [],
   "source": [
    "# #saleprice correlation matrix\n",
    "# k = 10 #number of variables for heatmap\n",
    "# cols = corrmat.nlargest(k, 'SalePrice')['SalePrice'].index\n",
    "# cm = np.corrcoef(house[cols].values.T)\n",
    "# sns.set(font_scale=1.25)\n",
    "# hm = sns.heatmap(cm, cbar=True, annot=True, square=True, fmt='.2f', annot_kws={'size': 10}, yticklabels=cols.values, xticklabels=cols.values)\n",
    "# plt.show()"
   ]
  },
  {
   "cell_type": "markdown",
   "metadata": {},
   "source": [
    "### Changing Categorical  into representative number"
   ]
  },
  {
   "cell_type": "code",
   "execution_count": null,
   "metadata": {},
   "outputs": [],
   "source": [
    "# # where categorical_values_train is a list containing all categorical variables.\n",
    "# for i in categorical_values_train: \n",
    "#     feature_set = set(house[i])\n",
    "#     for j in feature_set:\n",
    "#         feature_list = list(feature_set)\n",
    "#         house.loc[house[i] == j, i] = feature_list.index(j)"
   ]
  }
 ],
 "metadata": {
  "kernelspec": {
   "display_name": "Python 3",
   "language": "python",
   "name": "python3"
  },
  "language_info": {
   "codemirror_mode": {
    "name": "ipython",
    "version": 3
   },
   "file_extension": ".py",
   "mimetype": "text/x-python",
   "name": "python",
   "nbconvert_exporter": "python",
   "pygments_lexer": "ipython3",
   "version": "3.8.3"
  }
 },
 "nbformat": 4,
 "nbformat_minor": 4
}
