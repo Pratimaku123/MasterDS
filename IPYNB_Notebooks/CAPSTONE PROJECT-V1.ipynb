{
 "cells": [
  {
   "cell_type": "code",
   "execution_count": 1,
   "metadata": {
    "ExecuteTime": {
     "end_time": "2021-05-13T19:13:59.098498Z",
     "start_time": "2021-05-13T19:13:59.095903Z"
    }
   },
   "outputs": [],
   "source": [
    "import os"
   ]
  },
  {
   "cell_type": "code",
   "execution_count": 2,
   "metadata": {
    "ExecuteTime": {
     "end_time": "2021-05-13T19:14:19.270246Z",
     "start_time": "2021-05-13T19:14:19.259727Z"
    }
   },
   "outputs": [
    {
     "data": {
      "text/plain": [
       "'Mon,10 May 2021 09:40:42'"
      ]
     },
     "execution_count": 2,
     "metadata": {},
     "output_type": "execute_result"
    }
   ],
   "source": [
    "import time as t\n",
    "t.strftime(\"%a,%d %b %Y %H:%M:%S\",t.localtime(1620619842.962817603))\n",
    "                                                    "
   ]
  },
  {
   "cell_type": "code",
   "execution_count": 3,
   "metadata": {
    "ExecuteTime": {
     "end_time": "2021-05-13T19:14:27.312711Z",
     "start_time": "2021-05-13T19:14:27.308321Z"
    }
   },
   "outputs": [
    {
     "data": {
      "text/plain": [
       "1620972815.8407726"
      ]
     },
     "execution_count": 3,
     "metadata": {},
     "output_type": "execute_result"
    }
   ],
   "source": [
    "t.time()"
   ]
  },
  {
   "cell_type": "code",
   "execution_count": 4,
   "metadata": {
    "ExecuteTime": {
     "end_time": "2021-05-13T19:14:32.032428Z",
     "start_time": "2021-05-13T19:14:32.030201Z"
    }
   },
   "outputs": [],
   "source": [
    "os.environ['TF_CPP_MIN_LOG_LEVEL']='2'"
   ]
  },
  {
   "cell_type": "code",
   "execution_count": 5,
   "metadata": {
    "ExecuteTime": {
     "end_time": "2021-05-13T19:14:34.379544Z",
     "start_time": "2021-05-13T19:14:32.763991Z"
    }
   },
   "outputs": [],
   "source": [
    "import tensorflow as tf\n",
    "from tensorflow import keras"
   ]
  },
  {
   "cell_type": "code",
   "execution_count": 6,
   "metadata": {
    "ExecuteTime": {
     "end_time": "2021-05-13T19:14:34.391963Z",
     "start_time": "2021-05-13T19:14:34.389332Z"
    }
   },
   "outputs": [],
   "source": [
    "from tensorflow.keras import layers\n",
    "from tensorflow.keras.datasets import mnist"
   ]
  },
  {
   "cell_type": "code",
   "execution_count": 7,
   "metadata": {
    "ExecuteTime": {
     "end_time": "2021-05-13T19:14:34.732856Z",
     "start_time": "2021-05-13T19:14:34.404594Z"
    }
   },
   "outputs": [],
   "source": [
    "(x_train,y_train),(x_test,y_test)=mnist.load_data()"
   ]
  },
  {
   "cell_type": "code",
   "execution_count": 8,
   "metadata": {
    "ExecuteTime": {
     "end_time": "2021-05-13T19:14:34.826639Z",
     "start_time": "2021-05-13T19:14:34.823216Z"
    }
   },
   "outputs": [
    {
     "name": "stdout",
     "output_type": "stream",
     "text": [
      "(60000, 28, 28) (60000,)\n"
     ]
    }
   ],
   "source": [
    "print(x_train.shape,y_train.shape)"
   ]
  },
  {
   "cell_type": "code",
   "execution_count": 11,
   "metadata": {
    "ExecuteTime": {
     "end_time": "2021-05-13T19:14:35.775406Z",
     "start_time": "2021-05-13T19:14:35.605073Z"
    }
   },
   "outputs": [],
   "source": [
    "x_train=x_train.reshape(-1,28*28).astype('float')/255.0\n",
    "x_test=x_test.reshape(-1,28*28).astype('float')/255.0"
   ]
  },
  {
   "cell_type": "code",
   "execution_count": 12,
   "metadata": {
    "ExecuteTime": {
     "end_time": "2021-05-13T19:14:36.731078Z",
     "start_time": "2021-05-13T19:14:36.728170Z"
    }
   },
   "outputs": [
    {
     "data": {
      "text/plain": [
       "(60000, 784)"
      ]
     },
     "execution_count": 12,
     "metadata": {},
     "output_type": "execute_result"
    }
   ],
   "source": [
    "x_train.shape"
   ]
  },
  {
   "cell_type": "code",
   "execution_count": 13,
   "metadata": {
    "ExecuteTime": {
     "end_time": "2021-05-13T19:14:37.596640Z",
     "start_time": "2021-05-13T19:14:37.582061Z"
    }
   },
   "outputs": [
    {
     "data": {
      "text/plain": [
       "array([[0., 0., 0., ..., 0., 0., 0.],\n",
       "       [0., 0., 0., ..., 0., 0., 0.],\n",
       "       [0., 0., 0., ..., 0., 0., 0.],\n",
       "       ...,\n",
       "       [0., 0., 0., ..., 0., 0., 0.],\n",
       "       [0., 0., 0., ..., 0., 0., 0.],\n",
       "       [0., 0., 0., ..., 0., 0., 0.]])"
      ]
     },
     "execution_count": 13,
     "metadata": {},
     "output_type": "execute_result"
    }
   ],
   "source": [
    "x_train"
   ]
  },
  {
   "cell_type": "markdown",
   "metadata": {},
   "source": [
    "## Sequnetial API\n",
    "- flexible not convient\n",
    "- one input one output"
   ]
  },
  {
   "cell_type": "code",
   "execution_count": 14,
   "metadata": {
    "ExecuteTime": {
     "end_time": "2021-05-13T19:14:39.171461Z",
     "start_time": "2021-05-13T19:14:39.150511Z"
    }
   },
   "outputs": [],
   "source": [
    "model=keras.Sequential(\n",
    "[\n",
    "    \n",
    "    layers.Dense(512,activation='relu'),\n",
    "    layers.Dense(512,activation='relu'),\n",
    "    layers.Dense(10)\n",
    "    \n",
    "]\n",
    "    #softmax to output layer, but that would be declared in  loss funtion, how to configure training part of ourn/w\n",
    ")\n",
    "model.compile(\n",
    "    \n",
    "loss=keras.losses.SparseCategoricalCrossentropy(from_logits=True),\n",
    "optimizer=keras.optimizers.Adam(lr=0.001),\n",
    "metrics=['accuracy']\n",
    "    \n",
    ")"
   ]
  },
  {
   "cell_type": "code",
   "execution_count": 15,
   "metadata": {
    "ExecuteTime": {
     "end_time": "2021-05-13T19:15:24.713425Z",
     "start_time": "2021-05-13T19:14:40.182530Z"
    }
   },
   "outputs": [
    {
     "name": "stdout",
     "output_type": "stream",
     "text": [
      "Epoch 1/5\n",
      "1875/1875 - 8s - loss: 0.1849 - accuracy: 0.9432\n",
      "Epoch 2/5\n",
      "1875/1875 - 9s - loss: 0.0807 - accuracy: 0.9749\n",
      "Epoch 3/5\n",
      "1875/1875 - 7s - loss: 0.0553 - accuracy: 0.9823\n",
      "Epoch 4/5\n",
      "1875/1875 - 9s - loss: 0.0438 - accuracy: 0.9861\n",
      "Epoch 5/5\n",
      "1875/1875 - 11s - loss: 0.0347 - accuracy: 0.9887\n"
     ]
    },
    {
     "data": {
      "text/plain": [
       "<tensorflow.python.keras.callbacks.History at 0x7f8115eaf280>"
      ]
     },
     "execution_count": 15,
     "metadata": {},
     "output_type": "execute_result"
    }
   ],
   "source": [
    "model.fit(x_train,y_train,batch_size=32,epochs=5,verbose=2)\n"
   ]
  },
  {
   "cell_type": "code",
   "execution_count": 16,
   "metadata": {
    "ExecuteTime": {
     "end_time": "2021-05-13T19:15:29.598619Z",
     "start_time": "2021-05-13T19:15:28.954388Z"
    }
   },
   "outputs": [
    {
     "name": "stdout",
     "output_type": "stream",
     "text": [
      "313/313 - 1s - loss: 0.1258 - accuracy: 0.9710\n"
     ]
    },
    {
     "data": {
      "text/plain": [
       "[0.12584227323532104, 0.9710000157356262]"
      ]
     },
     "execution_count": 16,
     "metadata": {},
     "output_type": "execute_result"
    }
   ],
   "source": [
    "model.evaluate(x_test,y_test,batch_size=32,verbose=2)"
   ]
  },
  {
   "cell_type": "markdown",
   "metadata": {},
   "source": [
    "## FUNCTIONAL API"
   ]
  },
  {
   "cell_type": "code",
   "execution_count": 17,
   "metadata": {
    "ExecuteTime": {
     "end_time": "2021-05-13T19:15:31.415615Z",
     "start_time": "2021-05-13T19:15:31.413319Z"
    }
   },
   "outputs": [],
   "source": [
    "#shared image\n"
   ]
  },
  {
   "cell_type": "code",
   "execution_count": 18,
   "metadata": {
    "ExecuteTime": {
     "end_time": "2021-05-13T19:15:32.538354Z",
     "start_time": "2021-05-13T19:15:32.514163Z"
    }
   },
   "outputs": [],
   "source": [
    "import keras\n",
    "import tensorflow as tf\n",
    "from tensorflow.keras.layers import Conv2D,MaxPool2D,BatchNormalization,ReLU\n",
    "\n",
    "from keras.utils import plot_model"
   ]
  },
  {
   "cell_type": "code",
   "execution_count": 19,
   "metadata": {
    "ExecuteTime": {
     "end_time": "2021-05-13T19:15:33.275364Z",
     "start_time": "2021-05-13T19:15:33.269242Z"
    }
   },
   "outputs": [],
   "source": [
    "inputs=keras.Input(shape=(28,28,1))"
   ]
  },
  {
   "cell_type": "code",
   "execution_count": 20,
   "metadata": {
    "ExecuteTime": {
     "end_time": "2021-05-13T19:15:34.335678Z",
     "start_time": "2021-05-13T19:15:34.327273Z"
    }
   },
   "outputs": [],
   "source": [
    "#Imagine you want to create a CNN block that applies both the convolutional operation and BatchNormalisation. \n",
    "#You also want to apply a ReLU activation function to the output of both the above operations. \n",
    "\n",
    "def CNN_block(x,filters):\n",
    "    x=Conv2D(filters,kernel_size=3,padding=\"same\")(x)\n",
    "    x=BatchNormalization()(x)\n",
    "    return tf.nn.relu(x)"
   ]
  },
  {
   "cell_type": "code",
   "execution_count": 21,
   "metadata": {
    "ExecuteTime": {
     "end_time": "2021-05-13T19:15:35.443084Z",
     "start_time": "2021-05-13T19:15:35.437142Z"
    }
   },
   "outputs": [],
   "source": [
    "#Now, let's say you want to create an inception block that utilises the earlier created CNN block multiple times\n",
    "#and produces the output by merging the results from the CNN blocks.\n",
    "\n",
    "def inception_block(x,filter1,filter2):\n",
    "    conv1=CNN_block(x,filter1)\n",
    "    conv2=CNN_block(x,filter2)\n",
    "    merge=tf.keras.layers.concatenate([conv1,conv2])\n",
    "    return merge"
   ]
  },
  {
   "cell_type": "code",
   "execution_count": 26,
   "metadata": {
    "ExecuteTime": {
     "end_time": "2021-05-13T19:16:47.515746Z",
     "start_time": "2021-05-13T19:16:47.255092Z"
    }
   },
   "outputs": [],
   "source": [
    "x=CNN_block(inputs,32)\n",
    "x=layers.MaxPooling2D(3)(x)\n",
    "x=inception_block(x,32,32)\n",
    "x=inception_block(x,64,64)\n",
    "x=CNN_block(x,128)\n",
    "x=tf.keras.layers.GlobalAveragePooling2D()(x)\n",
    "x=tf.keras.layers.Dense(256,activation=\"relu\")(x)\n",
    "x=tf.keras.layers.Dropout(0.5)(x)\n",
    "outputs=tf.keras.layers.Dense(10)(x)\n",
    "model=keras.Model(inputs,outputs,name=\"final_model\")\n",
    "\n",
    "\n",
    "\n"
   ]
  },
  {
   "cell_type": "code",
   "execution_count": 40,
   "metadata": {},
   "outputs": [
    {
     "name": "stdout",
     "output_type": "stream",
     "text": [
      "Model: \"final_model\"\n",
      "__________________________________________________________________________________________________\n",
      "Layer (type)                    Output Shape         Param #     Connected to                     \n",
      "==================================================================================================\n",
      "input_2 (InputLayer)            [(None, 28, 28, 1)]  0                                            \n",
      "__________________________________________________________________________________________________\n",
      "conv2d_19 (Conv2D)              (None, 28, 28, 32)   320         input_2[0][0]                    \n",
      "__________________________________________________________________________________________________\n",
      "batch_normalization_19 (BatchNo (None, 28, 28, 32)   128         conv2d_19[0][0]                  \n",
      "__________________________________________________________________________________________________\n",
      "tf.nn.relu_15 (TFOpLambda)      (None, 28, 28, 32)   0           batch_normalization_19[0][0]     \n",
      "__________________________________________________________________________________________________\n",
      "max_pooling2d_4 (MaxPooling2D)  (None, 9, 9, 32)     0           tf.nn.relu_15[0][0]              \n",
      "__________________________________________________________________________________________________\n",
      "conv2d_20 (Conv2D)              (None, 9, 9, 32)     9248        max_pooling2d_4[0][0]            \n",
      "__________________________________________________________________________________________________\n",
      "conv2d_21 (Conv2D)              (None, 9, 9, 32)     9248        max_pooling2d_4[0][0]            \n",
      "__________________________________________________________________________________________________\n",
      "batch_normalization_20 (BatchNo (None, 9, 9, 32)     128         conv2d_20[0][0]                  \n",
      "__________________________________________________________________________________________________\n",
      "batch_normalization_21 (BatchNo (None, 9, 9, 32)     128         conv2d_21[0][0]                  \n",
      "__________________________________________________________________________________________________\n",
      "tf.nn.relu_16 (TFOpLambda)      (None, 9, 9, 32)     0           batch_normalization_20[0][0]     \n",
      "__________________________________________________________________________________________________\n",
      "tf.nn.relu_17 (TFOpLambda)      (None, 9, 9, 32)     0           batch_normalization_21[0][0]     \n",
      "__________________________________________________________________________________________________\n",
      "concatenate_4 (Concatenate)     (None, 9, 9, 64)     0           tf.nn.relu_16[0][0]              \n",
      "                                                                 tf.nn.relu_17[0][0]              \n",
      "__________________________________________________________________________________________________\n",
      "conv2d_22 (Conv2D)              (None, 9, 9, 64)     36928       concatenate_4[0][0]              \n",
      "__________________________________________________________________________________________________\n",
      "conv2d_23 (Conv2D)              (None, 9, 9, 64)     36928       concatenate_4[0][0]              \n",
      "__________________________________________________________________________________________________\n",
      "batch_normalization_22 (BatchNo (None, 9, 9, 64)     256         conv2d_22[0][0]                  \n",
      "__________________________________________________________________________________________________\n",
      "batch_normalization_23 (BatchNo (None, 9, 9, 64)     256         conv2d_23[0][0]                  \n",
      "__________________________________________________________________________________________________\n",
      "tf.nn.relu_18 (TFOpLambda)      (None, 9, 9, 64)     0           batch_normalization_22[0][0]     \n",
      "__________________________________________________________________________________________________\n",
      "tf.nn.relu_19 (TFOpLambda)      (None, 9, 9, 64)     0           batch_normalization_23[0][0]     \n",
      "__________________________________________________________________________________________________\n",
      "concatenate_5 (Concatenate)     (None, 9, 9, 128)    0           tf.nn.relu_18[0][0]              \n",
      "                                                                 tf.nn.relu_19[0][0]              \n",
      "__________________________________________________________________________________________________\n",
      "conv2d_24 (Conv2D)              (None, 9, 9, 128)    147584      concatenate_5[0][0]              \n",
      "__________________________________________________________________________________________________\n",
      "batch_normalization_24 (BatchNo (None, 9, 9, 128)    512         conv2d_24[0][0]                  \n",
      "__________________________________________________________________________________________________\n",
      "tf.nn.relu_20 (TFOpLambda)      (None, 9, 9, 128)    0           batch_normalization_24[0][0]     \n",
      "__________________________________________________________________________________________________\n",
      "global_average_pooling2d_2 (Glo (None, 128)          0           tf.nn.relu_20[0][0]              \n",
      "__________________________________________________________________________________________________\n",
      "dense_2 (Dense)                 (None, 256)          33024       global_average_pooling2d_2[0][0] \n",
      "__________________________________________________________________________________________________\n",
      "dropout (Dropout)               (None, 256)          0           dense_2[0][0]                    \n",
      "__________________________________________________________________________________________________\n",
      "dense_3 (Dense)                 (None, 10)           2570        dropout[0][0]                    \n",
      "==================================================================================================\n",
      "Total params: 277,258\n",
      "Trainable params: 276,554\n",
      "Non-trainable params: 704\n",
      "__________________________________________________________________________________________________\n"
     ]
    }
   ],
   "source": [
    "model.summary()"
   ]
  },
  {
   "cell_type": "code",
   "execution_count": 28,
   "metadata": {
    "ExecuteTime": {
     "end_time": "2021-05-13T19:17:01.064340Z",
     "start_time": "2021-05-13T19:17:01.058927Z"
    }
   },
   "outputs": [],
   "source": [
    "import tensorflow as tf"
   ]
  },
  {
   "cell_type": "code",
   "execution_count": 29,
   "metadata": {
    "ExecuteTime": {
     "end_time": "2021-05-13T19:17:01.657264Z",
     "start_time": "2021-05-13T19:17:01.650903Z"
    }
   },
   "outputs": [],
   "source": [
    "x=tf.constant(5.0)"
   ]
  },
  {
   "cell_type": "code",
   "execution_count": 30,
   "metadata": {
    "ExecuteTime": {
     "end_time": "2021-05-13T19:17:02.374729Z",
     "start_time": "2021-05-13T19:17:02.362271Z"
    }
   },
   "outputs": [
    {
     "name": "stdout",
     "output_type": "stream",
     "text": [
      "tf.Tensor(75.0, shape=(), dtype=float32)\n"
     ]
    }
   ],
   "source": [
    "with tf.GradientTape() as g:\n",
    "    g.watch(x)\n",
    "    y=x*x*x\n",
    "    dy_dx=g.gradient(y,x)\n",
    "print(dy_dx)"
   ]
  },
  {
   "cell_type": "code",
   "execution_count": 34,
   "metadata": {
    "ExecuteTime": {
     "end_time": "2021-05-13T19:17:21.326857Z",
     "start_time": "2021-05-13T19:17:21.322166Z"
    }
   },
   "outputs": [],
   "source": [
    "\n",
    "\n"
   ]
  },
  {
   "cell_type": "code",
   "execution_count": 35,
   "metadata": {
    "ExecuteTime": {
     "end_time": "2021-05-13T19:17:22.331873Z",
     "start_time": "2021-05-13T19:17:22.324998Z"
    }
   },
   "outputs": [
    {
     "name": "stdout",
     "output_type": "stream",
     "text": [
      "\n"
     ]
    }
   ],
   "source": [
    "print()"
   ]
  },
  {
   "cell_type": "markdown",
   "metadata": {},
   "source": [
    "## HEADING"
   ]
  },
  {
   "cell_type": "code",
   "execution_count": null,
   "metadata": {},
   "outputs": [],
   "source": []
  }
 ],
 "metadata": {
  "kernelspec": {
   "display_name": "Python 3",
   "language": "python",
   "name": "python3"
  },
  "language_info": {
   "codemirror_mode": {
    "name": "ipython",
    "version": 3
   },
   "file_extension": ".py",
   "mimetype": "text/x-python",
   "name": "python",
   "nbconvert_exporter": "python",
   "pygments_lexer": "ipython3",
   "version": "3.8.5"
  },
  "nbTranslate": {
   "displayLangs": [
    "*"
   ],
   "hotkey": "alt-t",
   "langInMainMenu": true,
   "sourceLang": "en",
   "targetLang": "fr",
   "useGoogleTranslate": true
  },
  "toc": {
   "base_numbering": 1,
   "nav_menu": {},
   "number_sections": true,
   "sideBar": true,
   "skip_h1_title": false,
   "title_cell": "Table of Contents",
   "title_sidebar": "Contents",
   "toc_cell": false,
   "toc_position": {},
   "toc_section_display": true,
   "toc_window_display": false
  },
  "varInspector": {
   "cols": {
    "lenName": 16,
    "lenType": 16,
    "lenVar": 40
   },
   "kernels_config": {
    "python": {
     "delete_cmd_postfix": "",
     "delete_cmd_prefix": "del ",
     "library": "var_list.py",
     "varRefreshCmd": "print(var_dic_list())"
    },
    "r": {
     "delete_cmd_postfix": ") ",
     "delete_cmd_prefix": "rm(",
     "library": "var_list.r",
     "varRefreshCmd": "cat(var_dic_list()) "
    }
   },
   "types_to_exclude": [
    "module",
    "function",
    "builtin_function_or_method",
    "instance",
    "_Feature"
   ],
   "window_display": false
  }
 },
 "nbformat": 4,
 "nbformat_minor": 4
}
