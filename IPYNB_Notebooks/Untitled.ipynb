{
 "cells": [
  {
   "cell_type": "code",
   "execution_count": 1,
   "metadata": {},
   "outputs": [
    {
     "data": {
      "text/plain": [
       "4"
      ]
     },
     "execution_count": 1,
     "metadata": {},
     "output_type": "execute_result"
    }
   ],
   "source": [
    "foo=[1,2,'None',[],]\n",
    "len(foo)"
   ]
  },
  {
   "cell_type": "code",
   "execution_count": 2,
   "metadata": {},
   "outputs": [
    {
     "data": {
      "text/plain": [
       "1"
      ]
     },
     "execution_count": 2,
     "metadata": {},
     "output_type": "execute_result"
    }
   ],
   "source": [
    "foo[-len(foo)]"
   ]
  },
  {
   "cell_type": "code",
   "execution_count": 34,
   "metadata": {},
   "outputs": [],
   "source": [
    "x='\"md5_cpus\":[\"8\", \"9\",\"10\"]'"
   ]
  },
  {
   "cell_type": "code",
   "execution_count": 38,
   "metadata": {},
   "outputs": [
    {
     "name": "stdout",
     "output_type": "stream",
     "text": [
      "md5_cpus=8\n",
      "md5_cpus=9\n",
      "md5_cpus=10\n"
     ]
    }
   ],
   "source": [
    "for i in x.split(\":\")[-1].strip('[').strip(']').strip('\"').split(','):\n",
    "    a='md5_cpus='+i.replace(\" \",\"\").strip('\"')\n",
    "    print(a)\n"
   ]
  },
  {
   "cell_type": "code",
   "execution_count": null,
   "metadata": {},
   "outputs": [],
   "source": []
  },
  {
   "cell_type": "code",
   "execution_count": null,
   "metadata": {},
   "outputs": [],
   "source": []
  },
  {
   "cell_type": "code",
   "execution_count": 4,
   "metadata": {},
   "outputs": [
    {
     "ename": "IndexError",
     "evalue": "list index out of range",
     "output_type": "error",
     "traceback": [
      "\u001b[0;31m---------------------------------------------------------------------------\u001b[0m",
      "\u001b[0;31mIndexError\u001b[0m                                Traceback (most recent call last)",
      "\u001b[0;32m<ipython-input-4-93dcbfc2c3f9>\u001b[0m in \u001b[0;36m<module>\u001b[0;34m\u001b[0m\n\u001b[0;32m----> 1\u001b[0;31m \u001b[0mfoo\u001b[0m\u001b[0;34m[\u001b[0m\u001b[0mlen\u001b[0m\u001b[0;34m(\u001b[0m\u001b[0mfoo\u001b[0m\u001b[0;34m)\u001b[0m\u001b[0;34m]\u001b[0m\u001b[0;34m\u001b[0m\u001b[0;34m\u001b[0m\u001b[0m\n\u001b[0m",
      "\u001b[0;31mIndexError\u001b[0m: list index out of range"
     ]
    }
   ],
   "source": [
    "foo[len(foo)]"
   ]
  },
  {
   "cell_type": "code",
   "execution_count": 2,
   "metadata": {},
   "outputs": [
    {
     "data": {
      "text/plain": [
       "tuple"
      ]
     },
     "execution_count": 2,
     "metadata": {},
     "output_type": "execute_result"
    }
   ],
   "source": [
    "T=(1,2,3,4,5,6)\n",
    "type(T)"
   ]
  },
  {
   "cell_type": "code",
   "execution_count": 3,
   "metadata": {},
   "outputs": [],
   "source": [
    "L=[1,2,3,4,5,6]"
   ]
  },
  {
   "cell_type": "code",
   "execution_count": 14,
   "metadata": {},
   "outputs": [
    {
     "name": "stdout",
     "output_type": "stream",
     "text": [
      "['tradesrv1', 'tradesrv2', 'tradesrv3', 'tradesrv4']\n"
     ]
    }
   ],
   "source": [
    "t='tradesrv1','tradesrv2','tradesrv3','tradesrv4'\n",
    "print(list(t))"
   ]
  },
  {
   "cell_type": "code",
   "execution_count": 6,
   "metadata": {},
   "outputs": [
    {
     "name": "stdout",
     "output_type": "stream",
     "text": [
      "enter user name :tradesrv1\n",
      "['tradesrv1']\n"
     ]
    }
   ],
   "source": [
    "user=input(\"enter user name :\")\n",
    "print(user.split(','))"
   ]
  },
  {
   "cell_type": "code",
   "execution_count": 8,
   "metadata": {},
   "outputs": [
    {
     "ename": "TypeError",
     "evalue": "'tuple' object does not support item assignment",
     "output_type": "error",
     "traceback": [
      "\u001b[0;31m---------------------------------------------------------------------------\u001b[0m",
      "\u001b[0;31mTypeError\u001b[0m                                 Traceback (most recent call last)",
      "\u001b[0;32m<ipython-input-8-044687bb86e2>\u001b[0m in \u001b[0;36m<module>\u001b[0;34m\u001b[0m\n\u001b[0;32m----> 1\u001b[0;31m \u001b[0mT\u001b[0m\u001b[0;34m[\u001b[0m\u001b[0;36m0\u001b[0m\u001b[0;34m]\u001b[0m\u001b[0;34m=\u001b[0m\u001b[0;36m2\u001b[0m\u001b[0;34m\u001b[0m\u001b[0;34m\u001b[0m\u001b[0m\n\u001b[0m",
      "\u001b[0;31mTypeError\u001b[0m: 'tuple' object does not support item assignment"
     ]
    }
   ],
   "source": [
    "T[0]=2"
   ]
  },
  {
   "cell_type": "code",
   "execution_count": 9,
   "metadata": {},
   "outputs": [],
   "source": [
    "import csv"
   ]
  },
  {
   "cell_type": "code",
   "execution_count": 10,
   "metadata": {},
   "outputs": [],
   "source": [
    "\n",
    "l=[2,4,4,5,6,7,8]"
   ]
  },
  {
   "cell_type": "code",
   "execution_count": 21,
   "metadata": {},
   "outputs": [
    {
     "name": "stdout",
     "output_type": "stream",
     "text": [
      "24\n"
     ]
    }
   ],
   "source": [
    "s=0\n",
    "for i in l:\n",
    "    if i%2==0:\n",
    "        s+=i\n",
    "print(s)       "
   ]
  },
  {
   "cell_type": "code",
   "execution_count": 1,
   "metadata": {},
   "outputs": [],
   "source": [
    "marks=[{'name':'Rahul','maths':'88'},\n",
    "       {'name':'Priti','maths':'80'},\n",
    "       {'name':'Jyoti','maths':'85'},\n",
    "       {'name':'Vikas','maths':'90'}\n",
    "]"
   ]
  },
  {
   "cell_type": "code",
   "execution_count": 2,
   "metadata": {},
   "outputs": [
    {
     "data": {
      "text/plain": [
       "[{'name': 'Rahul', 'maths': '88'},\n",
       " {'name': 'Priti', 'maths': '80'},\n",
       " {'name': 'Jyoti', 'maths': '85'},\n",
       " {'name': 'Vikas', 'maths': '90'}]"
      ]
     },
     "execution_count": 2,
     "metadata": {},
     "output_type": "execute_result"
    }
   ],
   "source": [
    "marks\n"
   ]
  },
  {
   "cell_type": "code",
   "execution_count": 18,
   "metadata": {},
   "outputs": [],
   "source": [
    "import requests, json"
   ]
  },
  {
   "cell_type": "code",
   "execution_count": 111,
   "metadata": {},
   "outputs": [],
   "source": [
    "response=requests.get('http://127.0.0.1:5000/marks')"
   ]
  },
  {
   "cell_type": "code",
   "execution_count": 112,
   "metadata": {},
   "outputs": [
    {
     "data": {
      "text/plain": [
       "[{'maths': '88', 'name': 'Rahul'},\n",
       " {'maths': '80', 'name': 'Priti'},\n",
       " {'maths': '85', 'name': 'Jyoti'},\n",
       " {'maths': '90', 'name': 'Vikas'},\n",
       " {'marks': '90', 'name': 'Shikhar'}]"
      ]
     },
     "execution_count": 112,
     "metadata": {},
     "output_type": "execute_result"
    }
   ],
   "source": [
    "data['marks']"
   ]
  },
  {
   "cell_type": "code",
   "execution_count": 113,
   "metadata": {},
   "outputs": [],
   "source": [
    "data=response.json()"
   ]
  },
  {
   "cell_type": "code",
   "execution_count": 114,
   "metadata": {},
   "outputs": [
    {
     "name": "stdout",
     "output_type": "stream",
     "text": [
      "0 {'maths': '88', 'name': 'Rahul'}\n",
      "1 {'maths': '80', 'name': 'Priti'}\n",
      "2 {'maths': '85', 'name': 'Jyoti'}\n",
      "3 {'maths': '90', 'name': 'Vikas'}\n",
      "4 {'marks': '90', 'name': 'Shikhar'}\n",
      "5 [{'maths': '88', 'name': 'Rahul'}, {'maths': '80', 'name': 'Priti'}, {'maths': '85', 'name': 'Jyoti'}, {'maths': '90', 'name': 'Vikas'}]\n"
     ]
    }
   ],
   "source": [
    "new_mark=80\n",
    "for i , m in enumerate(data['marks']):\n",
    "    print(i,m)"
   ]
  },
  {
   "cell_type": "code",
   "execution_count": 115,
   "metadata": {},
   "outputs": [
    {
     "data": {
      "text/plain": [
       "[{'maths': '88', 'name': 'Rahul'},\n",
       " {'maths': '80', 'name': 'Priti'},\n",
       " {'maths': '85', 'name': 'Jyoti'},\n",
       " {'maths': '90', 'name': 'Vikas'}]"
      ]
     },
     "execution_count": 115,
     "metadata": {},
     "output_type": "execute_result"
    }
   ],
   "source": [
    "data['marks'][5]"
   ]
  },
  {
   "cell_type": "code",
   "execution_count": 116,
   "metadata": {},
   "outputs": [],
   "source": [
    "new_mark=80\n",
    "for i , m in enumerate(data['marks']):\n",
    "    if i==5:\n",
    "        del data['marks'][i]\n",
    "\n"
   ]
  },
  {
   "cell_type": "code",
   "execution_count": 117,
   "metadata": {},
   "outputs": [
    {
     "data": {
      "text/plain": [
       "{'marks': [{'maths': '88', 'name': 'Rahul'},\n",
       "  {'maths': '80', 'name': 'Priti'},\n",
       "  {'maths': '85', 'name': 'Jyoti'},\n",
       "  {'maths': '90', 'name': 'Vikas'},\n",
       "  {'marks': '90', 'name': 'Shikhar'}]}"
      ]
     },
     "execution_count": 117,
     "metadata": {},
     "output_type": "execute_result"
    }
   ],
   "source": [
    "data"
   ]
  },
  {
   "cell_type": "code",
   "execution_count": 120,
   "metadata": {},
   "outputs": [
    {
     "data": {
      "text/plain": [
       "<Response [405]>"
      ]
     },
     "execution_count": 120,
     "metadata": {},
     "output_type": "execute_result"
    }
   ],
   "source": [
    "requests.put('http://127.0.0.1:5000/marks',json={'marks':data})"
   ]
  },
  {
   "cell_type": "code",
   "execution_count": 91,
   "metadata": {},
   "outputs": [
    {
     "data": {
      "text/plain": [
       "[{'name': 'Rahul', 'maths': '88'},\n",
       " {'name': 'Priti', 'maths': '80'},\n",
       " {'name': 'Jyoti', 'maths': '85'},\n",
       " {'name': 'Vikas', 'maths': '90'}]"
      ]
     },
     "execution_count": 91,
     "metadata": {},
     "output_type": "execute_result"
    }
   ],
   "source": [
    "marks"
   ]
  },
  {
   "cell_type": "code",
   "execution_count": 31,
   "metadata": {},
   "outputs": [
    {
     "name": "stdout",
     "output_type": "stream",
     "text": [
      "['exit_on_exchange_disconnect=trueexit_on_exchange_disconnect=trueexit_on_exchange_disconnect=true\\n', 'gexit_on_exchange_disconnect=true\\n', 'exit_on_exchange_disconnect=true\\n']\n"
     ]
    }
   ],
   "source": [
    "import os\n",
    "os.getcwd()\n",
    "\n",
    "file=open('server.txt','r')\n",
    "out=file.readlines()\n",
    "# out.append(\"exit_on_exchange_disconnect=true\")\n",
    "print(out)"
   ]
  },
  {
   "cell_type": "code",
   "execution_count": 19,
   "metadata": {},
   "outputs": [
    {
     "name": "stdout",
     "output_type": "stream",
     "text": [
      "['test1\\n', 'test2\\n', 'test3\\n', 'test4\\n', 'test5\\n', '#exit_on_exchange_disconnect=true\\n', '#exit_on_exchange_disconnect=true\\n']\n"
     ]
    }
   ],
   "source": [
    "data=['test1\\n','test2\\n','test3\\n','test4\\n','test5\\n']\n",
    "fileout=open('server.txt','r')\n",
    "\n",
    "line=fileout.readlines()\n",
    "print(line)\n",
    "\n",
    "fileout.close()"
   ]
  },
  {
   "cell_type": "code",
   "execution_count": 11,
   "metadata": {},
   "outputs": [
    {
     "name": "stdout",
     "output_type": "stream",
     "text": [
      "['test1\\n', 'test2\\n', 'test3\\n', 'test4\\n', 'test5\\n', 'exit_on_exchange_disconnect=true\\n', '#exit_on_exchange_disconnect=false\\n']\n"
     ]
    }
   ],
   "source": [
    "data=['test1\\n','test2\\n','test3\\n','test4\\n','test5\\n']\n",
    "fileout=open('server.txt','r')\n",
    "\n",
    "line=fileout.readlines()\n",
    "print(line)\n",
    "\n",
    "fileout.close()"
   ]
  },
  {
   "cell_type": "code",
   "execution_count": 18,
   "metadata": {},
   "outputs": [],
   "source": [
    "param='exit_on_exchange_disconnect=true\\n'\n",
    "if param in line:\n",
    "    ind=line.index(param)\n",
    "    line[ind]='#exit_on_exchange_disconnect=true\\n'\n",
    "file_w=open('server.txt','w+')\n",
    "for l in line:\n",
    "    file_w.write(l)\n",
    "file_w.close()"
   ]
  },
  {
   "cell_type": "code",
   "execution_count": 8,
   "metadata": {},
   "outputs": [
    {
     "data": {
      "text/plain": [
       "'exit_on_exchange_disconnect=false\\n'"
      ]
     },
     "execution_count": 8,
     "metadata": {},
     "output_type": "execute_result"
    }
   ],
   "source": []
  },
  {
   "cell_type": "code",
   "execution_count": 6,
   "metadata": {},
   "outputs": [],
   "source": [
    "epsilon-'nemo27.nse.aptportfolio.com','nemo57.nse.aptportfolio.com','nemo67.nse.aptportfolio.com',\n",
    "'nemo77.nse.aptportfolio.com','nemo79.nse.aptportfolio.com'\n",
    "\n",
    "options-'nemo53.nse.aptportfolio.com',57,67,77\n"
   ]
  },
  {
   "cell_type": "code",
   "execution_count": 1,
   "metadata": {},
   "outputs": [
    {
     "name": "stdout",
     "output_type": "stream",
     "text": [
      "['nemo47.nse.aptportfolio.com', 'nemo51.nse.aptportfolio.com', 'nemo27.nse.aptportfolio.com', 'nemo57.nse.aptportfolio.com', 'nemo67.nse.aptportfolio.com', 'nemo49.nse.aptportfolio.com', 'nemo77.nse.aptportfolio.com']\n"
     ]
    }
   ],
   "source": [
    "a= ['nemo79.nse.aptportfolio.com', 'nemo47.nse.aptportfolio.com', 'nemo51.nse.aptportfolio.com', 'nemo27.nse.aptportfolio.com', 'nemo57.nse.aptportfolio.com', 'nemo67.nse.aptportfolio.com', 'nemo49.nse.aptportfolio.com', 'nemo77.nse.aptportfolio.com']\n",
    "b= 'nemo79.nse.aptportfolio.com'\n",
    "if b in a:\n",
    "    a.remove(b)\n",
    "print(a)"
   ]
  },
  {
   "cell_type": "code",
   "execution_count": null,
   "metadata": {
    "code_folding": [],
    "run_control": {
     "marked": false
    }
   },
   "outputs": [],
   "source": [
    "FPGA_SERVER=['nemo27.nse.aptportfolio.com','nemo57.nse.aptportfolio.com','nemo67.nse.aptportfolio.com','nemo77.nse.aptportfolio.com','nemo79.nse.aptportfolio.com','nemo53.nse.aptportfolio.com']\n",
    "logging.info(\" Updating configs in {} REPOSITORY.....\" .format(dest_dir))\n",
    "logging.info(\"Setting Paramtere {} in config \".format(data))\n",
    "teams=os.listdir(cur_dir())\n",
    "print(teams)\n",
    "logging.info(\"Teams {}\".format(teams))\n",
    "for i in teams:\n",
    "    if i[0]!='.':\n",
    "        print('*'*20, i, '*'*20)\n",
    "        logging.info(\" Updating CONFIG in {} Team\".format(i.upper()))\n",
    "        os.chdir(i)\n",
    "        exchange=list_dir()\n",
    "        logging.info(\"{} team has {} exchanges\".format(i.upper(),[exch.upper() for exch in exchange]))\n",
    "        for ex in exchange:\n",
    "            if ex=='nse':\n",
    "                prRed(ex)\n",
    "                logging.info(\"Updating configs only for exchange {}\".format(ex.upper()))\n",
    "                os.chdir(ex)\n",
    "                servers=list_dir()\n",
    "                logging.info(\"Server present in {} team in {} exchange are {} \".format(i.upper(),ex.upper(),[ser.split('.')[0] for ser in servers]))\n",
    "                for server in servers:\n",
    "                    if server in FPGA_SERVER:\n",
    "                        logging.info('{} are FPGA server. Hence No changes'.format(server.split('.')[0].upper()))\n",
    "                        pass\n",
    "                    else:                        \n",
    "                        prGreen(server)\n",
    "                        logging.info(\"Updating the config in  {}\".format(server.split('.')[0].upper()))\n",
    "                        os.chdir(server)\n",
    "                        tradeserver=list_dir()\n",
    "                        logging.info(\"TS present in {} are {}\".format(server.split('.')[0].upper(),tradeserver))\n",
    "                        if i==\"epsilon\":\n",
    "                            logging.info(\"removing infra_user from list\")\n",
    "                            tradeserver.remove('infra_usr')\n",
    "                        for ts in tradeserver:\n",
    "                            logging.info(\"The current TS is {}\".format(ts))\n",
    "                            chg_dir(ts)\n",
    "                            config=list_dir()\n",
    "                            logging.info(\"checking if cron are commented \")\n",
    "                            file=open('cron',\"r\")\n",
    "                            count=0\n",
    "                            for line in file:\n",
    "                                 if re.search(\"start\",line):\n",
    "                                       if line.startswith(\"#\"):\n",
    "                                                 count+=1\n",
    "                            if count==2:\n",
    "                                    logging.warn(\"cron are commented for TS {}. Hence No changes in config\".format(ts))\n",
    "                                    pass\n",
    "                            else:\n",
    "                                logging.info(\"cron are not commented for TS {}. Going ahead with changes\".format(ts))\n",
    "                                prCyan(ts)\n",
    "                                with open('_config_template.cfg','r') as file:\n",
    "                                    content=file.readlines()\n",
    "                                    parma=data+'\\n'\n",
    "                                    logging.info('checking if parameter present already in config')\n",
    "                                    if param in content:\n",
    "                                        logging.warn('parameter already present. Hence commenting the parameter')\n",
    "\n",
    "                                        ind=content.index(param)\n",
    "                                        content[ind]='#exit_on_exchange_disconnect=true\\n'\n",
    "                                        file_w=open('_config_template.cfg','w+')\n",
    "                                        for l in content:\n",
    "                                            file_w.write(l)\n",
    "                                            file_w.close()\n",
    "\n",
    "\n",
    "                                with open('_config_template.cfg','r') as file:\n",
    "                                    content=file.readlines()\n",
    "                                    logging.info(content)\n",
    "                                    logging.info('*'*40)\n",
    "                                    prRed('*'*40)\n",
    "\n",
    "                             back_dir()\n",
    "\n",
    "                     back_dir()\n",
    "                back_dir()\n",
    "    back_dir()"
   ]
  }
 ],
 "metadata": {
  "kernelspec": {
   "display_name": "Python 3",
   "language": "python",
   "name": "python3"
  },
  "language_info": {
   "codemirror_mode": {
    "name": "ipython",
    "version": 3
   },
   "file_extension": ".py",
   "mimetype": "text/x-python",
   "name": "python",
   "nbconvert_exporter": "python",
   "pygments_lexer": "ipython3",
   "version": "3.8.5"
  },
  "nbTranslate": {
   "displayLangs": [
    "*"
   ],
   "hotkey": "alt-t",
   "langInMainMenu": true,
   "sourceLang": "en",
   "targetLang": "fr",
   "useGoogleTranslate": true
  },
  "toc": {
   "base_numbering": 1,
   "nav_menu": {},
   "number_sections": true,
   "sideBar": true,
   "skip_h1_title": false,
   "title_cell": "Table of Contents",
   "title_sidebar": "Contents",
   "toc_cell": false,
   "toc_position": {},
   "toc_section_display": true,
   "toc_window_display": false
  },
  "varInspector": {
   "cols": {
    "lenName": 16,
    "lenType": 16,
    "lenVar": 40
   },
   "kernels_config": {
    "python": {
     "delete_cmd_postfix": "",
     "delete_cmd_prefix": "del ",
     "library": "var_list.py",
     "varRefreshCmd": "print(var_dic_list())"
    },
    "r": {
     "delete_cmd_postfix": ") ",
     "delete_cmd_prefix": "rm(",
     "library": "var_list.r",
     "varRefreshCmd": "cat(var_dic_list()) "
    }
   },
   "types_to_exclude": [
    "module",
    "function",
    "builtin_function_or_method",
    "instance",
    "_Feature"
   ],
   "window_display": false
  }
 },
 "nbformat": 4,
 "nbformat_minor": 4
}
