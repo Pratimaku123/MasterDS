{
 "cells": [
  {
   "cell_type": "markdown",
   "metadata": {},
   "source": [
    "# Pre-Requisite "
   ]
  },
  {
   "cell_type": "markdown",
   "metadata": {},
   "source": [
    "## Different Trader Teams\n",
    "    - epsilon_trader\n",
    "    - opt_trader\n",
    "    - granite_trader\n",
    "    - carle_trader"
   ]
  },
  {
   "cell_type": "markdown",
   "metadata": {},
   "source": [
    "## checking the no of cores on servers\n",
    "    - lscpu (command)\n",
    "    - Thread(s) per core:  1\n",
    "    - NUMA node0 CPU(s):   0-15"
   ]
  },
  {
   "cell_type": "markdown",
   "metadata": {},
   "source": [
    "### CPU are isolated or not \n",
    "- To check whether cpu are isolated or not , we can run below command and and check isolcpus\n",
    "- command- **cat /proc/cmdline/**\n",
    "\n",
    "- for eg:<br>\n",
    "[pratima@nemo17 ~]$ cat /proc/cmdline <br>\n",
    " BOOT_IMAGE=(hd0,gpt2)/vmlinuz-4.18.0-80.el8.x86_64 root=/dev/mapper/rhel-root ro crashkernel=auto resume=/dev/mapper/rhel-swap rd.lvm.lv=rhel/root rd.lvm.lv=rhel/swap rhgb quiet net.ifnames=0 biosdevname=0 **isolcpus=1-19**"
   ]
  },
  {
   "cell_type": "markdown",
   "metadata": {},
   "source": [
    "###  status of sfptpd \n",
    "- To verify wether sfptpd is enable or not. we run below command and check if it is 'Active ' or not\n",
    "- command **systemctl status sfptpd**\n",
    "- for eg:\n",
    "[pratima@nemo17 ~]$ systemctl status sfptpd <br>\n",
    "● sfptpd.service - sfptpd <br>\n",
    "   Loaded: loaded (/usr/lib/systemd/system/sfptpd.service; enabled; vendor preset: disabled)<br>\n",
    "   Active: **active (running)** since Fri 2021-06-04 12:10:46 IST; 1 weeks 4 days ago<br>\n",
    " Main PID: 3671 (sfptpd)<br>\n",
    "    Tasks: 4 (limit: 26213)<br>\n",
    "   Memory: 108.7M<br>\n",
    "   CGroup: /system.slice/sfptpd.service<br>\n",
    "           └─3671 /usr/sbin/sfptpd -f/etc/sfptpd.conf<br>"
   ]
  },
  {
   "cell_type": "markdown",
   "metadata": {},
   "source": [
    "### Synchronization of time "
   ]
  },
  {
   "cell_type": "markdown",
   "metadata": {},
   "source": [
    "- It coulp be possible that system is running but synchrinizing the time.\n",
    "- To check this we run cat /var/lib/sfptpd/topology/\n",
    "\n",
    "- [pratima@nemo17 ~]$ cat /var/lib/sfptpd/topology <br>\n",
    "   \\====================<br>\n",
    "    state: ptp-slave <br>\n",
    "    interface: fpga-in (fpga-in)<br>\n",
    "    timestamping: hw<br>\n",
    "   \\====================\n",
    "\n",
    "            grandmaster            \n",
    "        000e:feff:fe01:01bc        \n",
    "                 |                 \n",
    "                 |                 \n",
    "              5 steps              \n",
    "                 |                 \n",
    "                 |                 \n",
    "                 v                 \n",
    "              parent               \n",
    "      00ea:bdff:fe64:90fc/11       \n",
    "                 |                 \n",
    "                 |                 \n",
    "             -7.000 ns             \n",
    "                 |                 \n",
    "                 |                 \n",
    "                 v                 \n",
    "        phc3(sfc0/fpga-in)         \n",
    "        000f:53ff:fe61:ef90        \n",
    "                 |                 \n",
    "                 |                 \n",
    "                 o----------------------------------o                 \n",
    "                 |                                  |                 \n",
    "                 |                                  |                 \n",
    "             -2.062 ns                         -14.750 ns             \n",
    "                 |                                  |                 \n",
    "                 |                                  |                 \n",
    "                 v                                  v                 \n",
    "     phc2(L3feed/interactive)                    system               \n",
    "        000f:53ff:fe68:e3a0                      system "
   ]
  },
  {
   "cell_type": "markdown",
   "metadata": {},
   "source": [
    "# Steps to Set Up  Epsilon Trader Server"
   ]
  },
  {
   "cell_type": "markdown",
   "metadata": {},
   "source": [
    "###    Login to trader team user account for which we are doing set up . Configuring Tfeed Process\n",
    "    eg:\n",
    "    epsilon_trader\n",
    " * **command :** <br>\n",
    "     --> sudo -u epsilon_trader -i\n",
    " * **creating Required directories and symlinks**  <br>\n",
    "    mkdir nse_tbt** <br>\n",
    "    mkdir /mnt/huge/epsilon_trader <br>\n",
    "    mkdir /data/epsilon_trader_keys <br>\n",
    "    mkdir infra_scripts <br>\n",
    "    mkdir nse_tbt <br>\n",
    "      **creating all_logs directory and symlink log in nse_tbt directory**<br>\n",
    "      cd nse_tbt <br>\n",
    "      mkdir all_logs <br>\n",
    "      ln -s all_logs log <br>\n",
    "\n",
    " * **creating symlinks**<br>\n",
    "     ln -s /mnt/huge/epsilon_trader/ live_logs <br>\n",
    "     ln -s /data/epsilon_trader_keys keys\n",
    "      \n",
    "     \n",
    "   "
   ]
  },
  {
   "cell_type": "markdown",
   "metadata": {},
   "source": [
    "### need to create required config:\n",
    "- tfeed.cfg\n",
    "- tokens.cfg"
   ]
  },
  {
   "cell_type": "markdown",
   "metadata": {},
   "source": [
    "### Need to touch two files in /data/epsilon_trader_keys directory \n",
    "- touch tfeed_cb\n",
    "- touch tfeed_token_status"
   ]
  },
  {
   "cell_type": "markdown",
   "metadata": {},
   "source": [
    "### content on tfeed.cfg and paramters to verify once \n",
    "free_list_size=20000 <br>\n",
    "num_segments=4 <br>\n",
    "**keys_dir=/data/epsilon_trader_keys/**<br>\n",
    "cd_contract_path=/data/contracts/cd_contract.txt<br>\n",
    "fo_contract_path=/data/contracts/contract.txt<br>\n",
    "fo_spd_contract_path=/data/contracts/fo_spd_contract.txt<br>\n",
    "cd_spd_contract_path=/data/contracts/cd_spd_contract.txt<br>\n",
    "cm_security_path=/data/contracts/security.txt<br>\n",
    "cd_masters_data_path=/data/contracts/cd_contract_stream_info.csv<br>\n",
    "fo_masters_data_path=/data/contracts/fo_contract_stream_info.csv<br>\n",
    "cm_masters_data_path=/data/contracts/cm_contract_stream_info.csv<br>\n",
    "cd_spread_masters_data_path=/data/contracts/cd_spd_contract_stream_info.csv<br>\n",
    "fo_spread_masters_data_path=/data/contracts/fo_spd_contract_stream_info.csv<br>\n",
    "cm_spread_masters_data_path=/data/contracts/cm_spd_contract_stream_info.csv<br>\n",
    "nse_banned_securities=/data/contracts/NSE_banned_securities.csv<br>\n",
    "fo_secban=/data/contracts/fo_secban.csv<br>\n",
    "base_shm_key=34897<br>\n",
    "interface_ip=0.0.0.0<br>\n",
    "#network_interface=L3feed<br>\n",
    "**network_interface=sfc0**<br>\n",
    "max_streams=2<br>\n",
    "max_listen_channels=1<br>\n",
    "socket_recvbuf=16777216<br>\n",
    "**num_reader_threads=2**<br>\n",
    "**cpu_ids_for_multicast_threads=1**<br>\n",
    "**cpu_ids_for_multicast_threads=2**<br>\n",
    "#cpu_ids_for_multicast_threads=3<br>\n",
    "#cpu_ids_for_multicast_threads=4<br>\n",
    "**cpu_ids_for_recovery_threads=0**<br>\n",
    "**background_threads_cpu_ids=0**<br>\n",
    "hold_crossing_mbos=false<br>\n",
    "**#multicast_provider_type=tcp_direct**<br>\n",
    "**multicast_provider_type=ef_vi**<br>\n",
    "**mdi_key_prefix=/epsilon_trader_nse_mdi**<br>\n"
   ]
  },
  {
   "cell_type": "markdown",
   "metadata": {},
   "source": [
    "<font color='green'>\n",
    "Note:This is raw set up without any specific details on server.Need to get this like scripts/config from a specific host which is up-to-date\n",
    " </font>"
   ]
  },
  {
   "cell_type": "markdown",
   "metadata": {},
   "source": [
    "# Set up for TS on server "
   ]
  },
  {
   "cell_type": "markdown",
   "metadata": {},
   "source": [
    "### take login to TS :\n",
    "- **sudo -u tradesrv1 -i**"
   ]
  },
  {
   "cell_type": "markdown",
   "metadata": {},
   "source": [
    "- **creating Required directories and symlinks**  <br>\n",
    "    mkdir -p /mnt/huge/tradesrv1 <br>\n",
    "    mkdir rms_server <br>\n",
    "    mkdir nse_trade_server <br>\n",
    "    mkdir -p nse_trade_server/scripts <br>\n",
    "\n",
    "- **creating symlinks**<br>\n",
    "     ln -s /mnt/huge/tradesrv1 live_logs <br>\n",
    "     \n",
    "- **creating all_logs directory and symlink log in <font color='Red'>nse_trade_server</font> directory**<br>\n",
    "      cd nse_trade_server <br>\n",
    "      mkdir all_logs <br>\n",
    "      ln -s all_logs log<br>\n",
    "      ln -s /data/nse_trade_server nse_native_trade_server <br>\n",
    "      ln -s /usr/share/infra_configs/tradesrv1/_config_template.cfg  _config_template.cfg <br>\n",
    "\n",
    "\n",
    "- **creating all_logs directory and symlink log in <font color='Red'>rms_server</font> directory**<br>\n",
    "      cd rms_server <br>\n",
    "      mkdir all_logs <br>\n",
    "      ln -s all_logs log<br>\n",
    "      ln -s /data/rms_server rms_server <br>\n",
    "          \n",
    "      \n",
    "     "
   ]
  },
  {
   "cell_type": "markdown",
   "metadata": {},
   "source": [
    "### creating <font color='Red'> \\_config_templare.cfg </font>config. Parametrs needs to verify\n",
    "- vi \\_config_template.cfg\n",
    "\n",
    "local_listen_ip=127.0.0.1<br>\n",
    "**server_port_number=25100**<br>\n",
    "shm_per_strat_size=1048576<br>\n",
    "cancel_orders_flag=false<br>\n",
    "max_tokens_per_strategy=128<br>\n",
    "rms_server_ip=127.0.0.1<br>\n",
    "**rms_server_port=8100**<br>\n",
    "#security_repository_shm_key_dir=/data/epsilon_trader_keys/<br>\n",
    "**info_module_config_file=/data/epsilon_shm_info_module.cfg**<br>\n",
    "#UserID|Password|NewPassword|BrokerID|BranchID|NSE-version-number|UserType|ComplianceID|IP-Address|Port|Segment|Local-IP<br>\n",
    "**connection=37668|__CURRENT_PASS_1__|__NEW_PASS_1__|13871|3|27734|24860|74400|0|201012002009000|127.0.0.1|10825|FO|10.230.40.133|95|AAICA0383M**<br>\n",
    "cpu_ids_for_tradeserver=0<br>\n",
    "**poll_for_orders_cpu_id=6**<br>\n",
    "enable_shm_process_mode=true<br>\n",
    "enable_network_mode=false<br>\n",
    "prefetch_security_info=false<br>\n",
    "epoll_timeout=0<br>\n",
    "**raw_mode_exchange_ip=172.19.13.85**<br>\n",
    "**#tcp_type=tcp_direct**<br>\n",
    "**#exchange_interface=L1feedB**<br>\n",
    "#exit_on_exchange_disconnect=true<br>"
   ]
  },
  {
   "cell_type": "markdown",
   "metadata": {},
   "source": [
    "### Depends on the number of connection present in _config_template .cfg  need to create directory password_management_{connection_number} --> 1,2,3...etc\n",
    "\n",
    "\n",
    "- cd nse_trade_server\n",
    "    - mkdir password_management_1\n",
    "    \n",
    "content of pasword_mangement_1 <br>\n",
    "- next_pass.txt\n",
    "- current_pass.txt\n",
    "- all_passwords.txt\n",
    "- change_date.txt\n",
    "- auto_start.log\n",
    "\n",
    "<br>\n",
    "<font color='Red' <br>\n",
    "      Note : for the first time session to be use , need to update \"all_passowrd.txt\" and keep default password which depend on segment  </font>\n",
    "\n",
    "FO - Neat@FO1<br>\n",
    "CD - Neat@CD1<br>\n",
    "CM - Neat@CM1<br>\n",
    "\n",
    "vi all_password.txt <br>\n",
    "**Neat@FO1**<br>\n",
    "Cshk@SD8<br>\n",
    "Fgas@UH6<br>\n",
    "Bhfg@DF4<br>\n",
    "Pkgy@BI6<br>\n",
    "Fofg@SD5<br>\n",
    "Edpo@FG2<br>\n",
    "Rtsp@DF1<br>\n",
    "Jigh@SD4<br>\n",
    "Phgf@CF3<br>\n",
    "Amrt@RG8<br>\n",
    "Tues@NY1<br>\n",
    "Fvgh@VC4<br>\n",
    "Bnkh@CG3<br>\n",
    "\n",
    "- After saving the file. Need to touch \"force_change.txt\" file . This is done when we start TS , the script will automatically forcefuly change to the deafult password.  \n",
    "<br>\n",
    "<font color='Red'> <br>\n",
    "Note :Once the password is set, then NeatFO1 should be removed from all_passwords.txt. Similarly other default password<br>\n",
    "</font>"
   ]
  }
 ],
 "metadata": {
  "kernelspec": {
   "display_name": "Python 3",
   "language": "python",
   "name": "python3"
  },
  "language_info": {
   "codemirror_mode": {
    "name": "ipython",
    "version": 3
   },
   "file_extension": ".py",
   "mimetype": "text/x-python",
   "name": "python",
   "nbconvert_exporter": "python",
   "pygments_lexer": "ipython3",
   "version": "3.8.5"
  },
  "nbTranslate": {
   "displayLangs": [
    "*"
   ],
   "hotkey": "alt-t",
   "langInMainMenu": true,
   "sourceLang": "en",
   "targetLang": "fr",
   "useGoogleTranslate": true
  },
  "toc": {
   "base_numbering": 1,
   "nav_menu": {},
   "number_sections": true,
   "sideBar": true,
   "skip_h1_title": false,
   "title_cell": "Table of Contents",
   "title_sidebar": "Contents",
   "toc_cell": false,
   "toc_position": {},
   "toc_section_display": true,
   "toc_window_display": true
  },
  "varInspector": {
   "cols": {
    "lenName": 16,
    "lenType": 16,
    "lenVar": 40
   },
   "kernels_config": {
    "python": {
     "delete_cmd_postfix": "",
     "delete_cmd_prefix": "del ",
     "library": "var_list.py",
     "varRefreshCmd": "print(var_dic_list())"
    },
    "r": {
     "delete_cmd_postfix": ") ",
     "delete_cmd_prefix": "rm(",
     "library": "var_list.r",
     "varRefreshCmd": "cat(var_dic_list()) "
    }
   },
   "types_to_exclude": [
    "module",
    "function",
    "builtin_function_or_method",
    "instance",
    "_Feature"
   ],
   "window_display": false
  }
 },
 "nbformat": 4,
 "nbformat_minor": 4
}
