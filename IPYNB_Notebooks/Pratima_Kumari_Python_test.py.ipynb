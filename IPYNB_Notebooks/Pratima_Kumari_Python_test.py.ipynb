{
 "cells": [
  {
   "cell_type": "code",
   "execution_count": 1,
   "metadata": {},
   "outputs": [],
   "source": [
    "import pandas as pd\n",
    "import numpy as np"
   ]
  },
  {
   "cell_type": "markdown",
   "metadata": {},
   "source": [
    "# Part 1 (Basics, strings, lists, tuples, dictionaries) "
   ]
  },
  {
   "cell_type": "code",
   "execution_count": 2,
   "metadata": {},
   "outputs": [
    {
     "name": "stdout",
     "output_type": "stream",
     "text": [
      "ajit.singh@transorg.com\n"
     ]
    }
   ],
   "source": [
    "#Question1\n",
    "def convert(list_arg):\n",
    "    l=[] #creating empty list \n",
    "    name=list_arg[0:-2] #taking elemnets before transorg and kepeing it into name variable\n",
    "    title=list_arg[-2:]#taking elemnets from transorg till end and kepeing it into title variable\n",
    "    \n",
    "    n=l.append('.'.join(name)) #joining name elements with .and append it to list l\n",
    "    m=l.append('.'.join(title)) #joining name elements with .and append it to list l\n",
    "    str='@'.join(l) #joining name elements with '@' and storing it into str variable\n",
    "    return str\n",
    "\n",
    "m= ['ajit','singh','transorg','com']\n",
    "print(convert(m))"
   ]
  },
  {
   "cell_type": "code",
   "execution_count": 3,
   "metadata": {},
   "outputs": [
    {
     "name": "stdout",
     "output_type": "stream",
     "text": [
      "[2, 3, 4]\n"
     ]
    }
   ],
   "source": [
    "#Question2 - intersection\n",
    "\n",
    "# l1 = [1,2,3,4,5,6] \n",
    "# l2 = [2,3,4,7,8]\n",
    "#new_list = [2,3,4]\n",
    "\n",
    "\n",
    "l1 = [1,2,3,4,5,6] \n",
    "l2 = [2,3,4,7,8]\n",
    "new_list=[element for element in l1 if element in l2 ] # iteration over elenment , if present in other list then store\n",
    "print(new_list)\n"
   ]
  },
  {
   "cell_type": "code",
   "execution_count": 4,
   "metadata": {},
   "outputs": [
    {
     "name": "stdout",
     "output_type": "stream",
     "text": [
      "[1, 2, 3, 4]\n"
     ]
    }
   ],
   "source": [
    "#Question3 - remove_duplicates\n",
    "#l1 = [1,2,2,1,3,4]\n",
    "#new_list = [1,2,3,4]\n",
    "\n",
    "def remove_duplicates(list_arg):\n",
    "    new_list=set(list_arg) #set function remove duplicates\n",
    "    new_list=list(new_list) #converting into list \n",
    "    return(new_list) #returnign list \n",
    "l1 = [1,2,2,1,3,4]\n",
    "print(remove_duplicates(l1))\n"
   ]
  },
  {
   "cell_type": "code",
   "execution_count": 5,
   "metadata": {},
   "outputs": [
    {
     "name": "stdout",
     "output_type": "stream",
     "text": [
      "104\n"
     ]
    }
   ],
   "source": [
    "#Question4 -second largest number in a list \n",
    "\n",
    "l1= [100,101,102,103,104,105]\n",
    "sort_list=sorted(l1) #Sorted function dsort the elemenst presents in list\n",
    "print(sort_list[-2])  #print the second last element in the sorted list"
   ]
  },
  {
   "cell_type": "code",
   "execution_count": 6,
   "metadata": {},
   "outputs": [
    {
     "name": "stdout",
     "output_type": "stream",
     "text": [
      "[(1, 2), (2, 3), (3, 4)]\n"
     ]
    }
   ],
   "source": [
    "#question5 - generte list of tuples from dictionary\n",
    "# d = {1:2,2:3,3:4} new_list = [(1,2), (2,3), (3,4)]\n",
    "d = {1:2,2:3,3:4}\n",
    "new_list=list(d.items()) #d.items() gives the key-value pair in the form of tuple\n",
    "\n",
    "print(new_list)\n"
   ]
  },
  {
   "cell_type": "markdown",
   "metadata": {},
   "source": [
    "# Part 2 (Lambda Functions)"
   ]
  },
  {
   "cell_type": "code",
   "execution_count": 7,
   "metadata": {},
   "outputs": [
    {
     "name": "stdout",
     "output_type": "stream",
     "text": [
      "[1, 4, 9, 16, 25, 36, 49, 64, 81]\n"
     ]
    }
   ],
   "source": [
    "#Queston1  - square of elemnts in list \n",
    "l1= [1,2,3,4,5,6,7,8,9]\n",
    "square_list=[ x*x for x in l1]\n",
    "print(square_list)"
   ]
  },
  {
   "cell_type": "code",
   "execution_count": 8,
   "metadata": {},
   "outputs": [
    {
     "name": "stdout",
     "output_type": "stream",
     "text": [
      "2\n"
     ]
    }
   ],
   "source": [
    "#question2 - smaller among elemnets\n",
    "# Input: 2,3\n",
    "# Output: 2\n",
    "l=[2,3]\n",
    "from functools import reduce\n",
    "print(reduce(lambda x,y: min(x,y),l))  #reduce funciton produces single output "
   ]
  },
  {
   "cell_type": "markdown",
   "metadata": {},
   "source": [
    "# Part 3 (Pandas DataFrames)"
   ]
  },
  {
   "cell_type": "code",
   "execution_count": 9,
   "metadata": {},
   "outputs": [],
   "source": [
    "dict1 = {'ID':[1,2,3,4,5],'Name':['Alpha','Bravo','Charlie','Delta','Echo']}\n",
    "dict2 = {'ID':[2,2,5,3,1,1,4,4],\n",
    "'Sport':['Cricket','Football','Basketball','Basketball','Table tennis','Cricket','Football','Basketball']}\n",
    "dict3 = {'ID':[2,1,3,5,4], 'Marks':[30,' ',85,65,97]}\n",
    "df1 = pd.DataFrame(data = dict1)\n",
    "df2 = pd.DataFrame(data = dict2)\n",
    "df3= pd.DataFrame(data = dict3)\n",
    "df3['Marks']=np.where(df3['ID']==1,np.nan,df3['Marks'])"
   ]
  },
  {
   "cell_type": "code",
   "execution_count": 10,
   "metadata": {},
   "outputs": [
    {
     "data": {
      "text/html": [
       "<div>\n",
       "<style scoped>\n",
       "    .dataframe tbody tr th:only-of-type {\n",
       "        vertical-align: middle;\n",
       "    }\n",
       "\n",
       "    .dataframe tbody tr th {\n",
       "        vertical-align: top;\n",
       "    }\n",
       "\n",
       "    .dataframe thead th {\n",
       "        text-align: right;\n",
       "    }\n",
       "</style>\n",
       "<table border=\"1\" class=\"dataframe\">\n",
       "  <thead>\n",
       "    <tr style=\"text-align: right;\">\n",
       "      <th></th>\n",
       "      <th>ID</th>\n",
       "      <th>Name</th>\n",
       "      <th>Sport</th>\n",
       "    </tr>\n",
       "  </thead>\n",
       "  <tbody>\n",
       "    <tr>\n",
       "      <th>0</th>\n",
       "      <td>1</td>\n",
       "      <td>Alpha</td>\n",
       "      <td>Table tennis</td>\n",
       "    </tr>\n",
       "    <tr>\n",
       "      <th>1</th>\n",
       "      <td>1</td>\n",
       "      <td>Alpha</td>\n",
       "      <td>Cricket</td>\n",
       "    </tr>\n",
       "    <tr>\n",
       "      <th>2</th>\n",
       "      <td>2</td>\n",
       "      <td>Bravo</td>\n",
       "      <td>Cricket</td>\n",
       "    </tr>\n",
       "    <tr>\n",
       "      <th>3</th>\n",
       "      <td>2</td>\n",
       "      <td>Bravo</td>\n",
       "      <td>Football</td>\n",
       "    </tr>\n",
       "    <tr>\n",
       "      <th>4</th>\n",
       "      <td>3</td>\n",
       "      <td>Charlie</td>\n",
       "      <td>Basketball</td>\n",
       "    </tr>\n",
       "    <tr>\n",
       "      <th>5</th>\n",
       "      <td>4</td>\n",
       "      <td>Delta</td>\n",
       "      <td>Football</td>\n",
       "    </tr>\n",
       "    <tr>\n",
       "      <th>6</th>\n",
       "      <td>4</td>\n",
       "      <td>Delta</td>\n",
       "      <td>Basketball</td>\n",
       "    </tr>\n",
       "    <tr>\n",
       "      <th>7</th>\n",
       "      <td>5</td>\n",
       "      <td>Echo</td>\n",
       "      <td>Basketball</td>\n",
       "    </tr>\n",
       "  </tbody>\n",
       "</table>\n",
       "</div>"
      ],
      "text/plain": [
       "   ID     Name         Sport\n",
       "0   1    Alpha  Table tennis\n",
       "1   1    Alpha       Cricket\n",
       "2   2    Bravo       Cricket\n",
       "3   2    Bravo      Football\n",
       "4   3  Charlie    Basketball\n",
       "5   4    Delta      Football\n",
       "6   4    Delta    Basketball\n",
       "7   5     Echo    Basketball"
      ]
     },
     "execution_count": 10,
     "metadata": {},
     "output_type": "execute_result"
    }
   ],
   "source": [
    "#question1\n",
    "df=df1.merge(df2,how='inner',on='ID')\n",
    "df"
   ]
  },
  {
   "cell_type": "code",
   "execution_count": 11,
   "metadata": {},
   "outputs": [
    {
     "data": {
      "text/html": [
       "<div>\n",
       "<style scoped>\n",
       "    .dataframe tbody tr th:only-of-type {\n",
       "        vertical-align: middle;\n",
       "    }\n",
       "\n",
       "    .dataframe tbody tr th {\n",
       "        vertical-align: top;\n",
       "    }\n",
       "\n",
       "    .dataframe thead th {\n",
       "        text-align: right;\n",
       "    }\n",
       "</style>\n",
       "<table border=\"1\" class=\"dataframe\">\n",
       "  <thead>\n",
       "    <tr style=\"text-align: right;\">\n",
       "      <th></th>\n",
       "      <th>ID</th>\n",
       "      <th>Marks</th>\n",
       "    </tr>\n",
       "  </thead>\n",
       "  <tbody>\n",
       "    <tr>\n",
       "      <th>2</th>\n",
       "      <td>3</td>\n",
       "      <td>85</td>\n",
       "    </tr>\n",
       "    <tr>\n",
       "      <th>4</th>\n",
       "      <td>4</td>\n",
       "      <td>97</td>\n",
       "    </tr>\n",
       "  </tbody>\n",
       "</table>\n",
       "</div>"
      ],
      "text/plain": [
       "   ID Marks\n",
       "2   3    85\n",
       "4   4    97"
      ]
     },
     "execution_count": 11,
     "metadata": {},
     "output_type": "execute_result"
    }
   ],
   "source": [
    "#question 2 - {i}\n",
    "marks_more_than_80=df3[df3['Marks']>80]\n",
    "marks_more_than_80"
   ]
  },
  {
   "cell_type": "code",
   "execution_count": 12,
   "metadata": {},
   "outputs": [
    {
     "name": "stdout",
     "output_type": "stream",
     "text": [
      "max_marks : 97 , min_marks : 30\n"
     ]
    }
   ],
   "source": [
    "#Question 2 - {ii}\n",
    "max_marks=max(df3['Marks'])\n",
    "min_marks=min(df3['Marks'])\n",
    "print('max_marks : {} , min_marks : {}'.format(max_marks,min_marks))"
   ]
  },
  {
   "cell_type": "code",
   "execution_count": null,
   "metadata": {},
   "outputs": [],
   "source": []
  }
 ],
 "metadata": {
  "kernelspec": {
   "display_name": "Python 3",
   "language": "python",
   "name": "python3"
  },
  "language_info": {
   "codemirror_mode": {
    "name": "ipython",
    "version": 3
   },
   "file_extension": ".py",
   "mimetype": "text/x-python",
   "name": "python",
   "nbconvert_exporter": "python",
   "pygments_lexer": "ipython3",
   "version": "3.8.5"
  },
  "nbTranslate": {
   "displayLangs": [
    "*"
   ],
   "hotkey": "alt-t",
   "langInMainMenu": true,
   "sourceLang": "en",
   "targetLang": "fr",
   "useGoogleTranslate": true
  },
  "toc": {
   "base_numbering": 1,
   "nav_menu": {},
   "number_sections": true,
   "sideBar": true,
   "skip_h1_title": false,
   "title_cell": "Table of Contents",
   "title_sidebar": "Contents",
   "toc_cell": false,
   "toc_position": {},
   "toc_section_display": true,
   "toc_window_display": false
  },
  "varInspector": {
   "cols": {
    "lenName": 16,
    "lenType": 16,
    "lenVar": 40
   },
   "kernels_config": {
    "python": {
     "delete_cmd_postfix": "",
     "delete_cmd_prefix": "del ",
     "library": "var_list.py",
     "varRefreshCmd": "print(var_dic_list())"
    },
    "r": {
     "delete_cmd_postfix": ") ",
     "delete_cmd_prefix": "rm(",
     "library": "var_list.r",
     "varRefreshCmd": "cat(var_dic_list()) "
    }
   },
   "types_to_exclude": [
    "module",
    "function",
    "builtin_function_or_method",
    "instance",
    "_Feature"
   ],
   "window_display": false
  }
 },
 "nbformat": 4,
 "nbformat_minor": 4
}
